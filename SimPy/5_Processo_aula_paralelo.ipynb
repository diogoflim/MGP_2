{
 "cells": [
  {
   "attachments": {},
   "cell_type": "markdown",
   "id": "e159502c-561c-4d4e-94bb-26565d45cf11",
   "metadata": {},
   "source": [
    "[![Open In Colab](https://colab.research.google.com/assets/colab-badge.svg)](https://colab.research.google.com/github/diogoflim/MGP/blob/main/SimPy/5_Processo_aula_paralelo.ipynb)"
   ]
  },
  {
   "attachments": {},
   "cell_type": "markdown",
   "id": "67f7a0db-b2fe-4613-aba7-d4d950eb86f5",
   "metadata": {},
   "source": [
    "# Modelagem e Gestão de Processos\n",
    "\n",
    "\n",
    "**Prof. Diogo Ferreira de Lima Silva (TEP-UFF)**\n",
    "\n"
   ]
  },
  {
   "cell_type": "code",
   "execution_count": null,
   "metadata": {},
   "outputs": [],
   "source": [
    "!pip install simpy"
   ]
  },
  {
   "cell_type": "code",
   "execution_count": 2,
   "metadata": {},
   "outputs": [],
   "source": [
    "import simpy\n",
    "import random\n",
    "import numpy as np"
   ]
  },
  {
   "cell_type": "code",
   "execution_count": 11,
   "metadata": {},
   "outputs": [],
   "source": [
    "random.seed(10)"
   ]
  },
  {
   "attachments": {},
   "cell_type": "markdown",
   "metadata": {},
   "source": [
    "### Analisando o que seria esperado\n",
    "\n",
    "<img src=\"processo_aula3.png\">\n"
   ]
  },
  {
   "attachments": {},
   "cell_type": "markdown",
   "metadata": {},
   "source": [
    "Imagine que não temos fila os tempos da figura são os tempos de processameto reais (determinísticos) das atividades.\n",
    "\n",
    "Temos:\n",
    "\n",
    "- Tempo de Ciclo no pior caso: o trabalho passa por B e também precisa de retrabalho\n",
    "\n",
    "$$ TC_{pior} = 10 + 20 + 23 + 2 \\times 35 + \\max{(13;9)} + 2 = 138 $$\n",
    "\n",
    "- Tempo de Ciclo no melhor caso: o trabalho não passa por B e não precisa de retrabalho\n",
    "\n",
    "$$ TC_{melhor} = 10 + 23 + 35 + \\max{(13;9)} + 2 = 83 $$\n",
    "\n",
    "- Tempo de Ciclo no esperado (retrabalho só pode ser feito 1 vez):\n",
    "\n",
    "$$TC_{esperado} = 10 + 0,3 \\times 20 + 23 + 1,1 \\times (10+20+5)+ \\max{(13;9)} +2 = 92,5$$\n",
    "\n",
    "- Tempo de Ciclo no esperado (retrabalho pode ser feito mais de uma vez):\n",
    "\n",
    "$$TC_{esperado} = 10 + 0,3 \\times 20 + 23 + \\frac{10+20+5}{1-0,1} + \\max{(13;9)} +2 = 92,89$$"
   ]
  },
  {
   "attachments": {},
   "cell_type": "markdown",
   "metadata": {},
   "source": [
    "### Reescrevendo o código\n",
    "\n",
    "Para deixar nosso código mais organizado, vamos criar uma função para cada atividade."
   ]
  },
  {
   "cell_type": "code",
   "execution_count": 12,
   "metadata": {},
   "outputs": [],
   "source": [
    "def atividade_A (environment, trabalho_id):\n",
    "    with R1.request() as req:\n",
    "        yield req\n",
    "        yield environment.timeout(10)\n",
    "        \n",
    "def atividade_B (environment, trabalho_id):\n",
    "    with R1.request() as req:\n",
    "        yield req\n",
    "        yield environment.timeout(20)  \n",
    "        \n",
    "def atividade_C (environment, trabalho_id):\n",
    "    with R2.request() as req:\n",
    "        yield req\n",
    "        yield environment.timeout(23)  \n",
    "        \n",
    "def atividade_D (environment, trabalho_id):\n",
    "    with R2.request() as req:\n",
    "        yield req\n",
    "        yield environment.timeout(10)  \n",
    "\n",
    "def atividade_E (environment, trabalho_id):\n",
    "    with R2.request() as req:\n",
    "        yield req\n",
    "        yield environment.timeout(20)  \n",
    "        \n",
    "def atividade_F (environment, trabalho_id):\n",
    "    with R1.request() as req:\n",
    "        yield req\n",
    "        yield environment.timeout(9)  \n",
    "        \n",
    "def atividade_G (environment, trabalho_id):\n",
    "    with R3.request() as req:\n",
    "        yield req\n",
    "        yield environment.timeout(13)  \n",
    "        \n",
    "def atividade_H (environment, trabalho_id):\n",
    "    with R3.request() as req:\n",
    "        yield req\n",
    "        yield environment.timeout(2)  \n",
    "        \n",
    "def atividade_I (environment, trabalho_id):\n",
    "    yield environment.timeout(5)  \n",
    "    \n"
   ]
  },
  {
   "attachments": {},
   "cell_type": "markdown",
   "metadata": {},
   "source": [
    "Vamos modelar o processo completo. Veja que agora o código fica bem mais limpo e organizado.\n",
    "\n",
    "Usaremos um input adicional para determinar se uma tarefa pode entrar no ciclo de retrabalho mais de uma vez."
   ]
  },
  {
   "cell_type": "code",
   "execution_count": 13,
   "metadata": {},
   "outputs": [],
   "source": [
    "def processo_aula3 (environment, trabalho_id, R1, R2, R3, retrabalho_repete):\n",
    "        #print(f'tempo: {environment.now} -- {trabalho_id} entrou no processo')\n",
    "        entrou_no_processo = environment.now\n",
    "\n",
    "        # Atividade A\n",
    "        yield (environment.process(atividade_A(environment, trabalho_id)))\n",
    "   \n",
    "        # Atividade B só acontece em 30% dos trabalhos\n",
    "        regra_B = random.uniform(0,1) \n",
    "        if regra_B < 0.3:\n",
    "                yield (environment.process(atividade_B(environment, trabalho_id)))\n",
    "    \n",
    "        # Atividade C\n",
    "        yield(environment.process(atividade_C(environment, trabalho_id)))\n",
    "\n",
    "        # Atividade D\n",
    "        yield(environment.process(atividade_D(environment, trabalho_id)))\n",
    "        \n",
    "        # Atividade E\n",
    "        yield(environment.process(atividade_E(environment, trabalho_id)))\n",
    "\n",
    "        # Atividade I\n",
    "        yield (environment.process(atividade_I(environment, trabalho_id)))\n",
    "        \n",
    "        #Regra de Retrabalho\n",
    "        regra_I = random.uniform(0,1)\n",
    "        \n",
    "        if retrabalho_repete == True:\n",
    "                while regra_I < 0.1:\n",
    "                        # Atividade D\n",
    "                        yield(environment.process(atividade_D(environment, trabalho_id)))\n",
    "                        # Atividade E\n",
    "                        yield(environment.process(atividade_E(environment, trabalho_id)))\n",
    "                        # Atividade I\n",
    "                        yield (environment.process(atividade_I(environment, trabalho_id)))\n",
    "                        regra_I = random.uniform(0,1)\n",
    "        else:\n",
    "                if regra_I < 0.1:\n",
    "                        # Atividade D\n",
    "                        yield(environment.process(atividade_D(environment, trabalho_id)))\n",
    "                        # Atividade E\n",
    "                        yield(environment.process(atividade_E(environment, trabalho_id)))\n",
    "                        # Atividade I\n",
    "                        yield (environment.process(atividade_I(environment, trabalho_id)))\n",
    "                        regra_I = random.uniform(0,1)\n",
    "\n",
    "\n",
    "        # Atividades F e G são paralelas!\n",
    "        a_lista = []\n",
    "        for a in superatividade:\n",
    "                a_lista.append(environment.process(a(environment, trabalho_id)))\n",
    "        yield environment.all_of(a_lista)     \n",
    "        \n",
    "        # Atividade H\n",
    "        yield(environment.process(atividade_H(environment, trabalho_id)))\n",
    "        \n",
    "        #print(f'tempo: {environment.now} -- {trabalho_id} saiu do processo')\n",
    "        \n",
    "        saiu_do_processo = environment.now\n",
    "        tempo_de_ciclo.append (saiu_do_processo - entrou_no_processo) \n"
   ]
  },
  {
   "cell_type": "code",
   "execution_count": 14,
   "metadata": {},
   "outputs": [],
   "source": [
    "def chegadas (environment, retrabalho_repete):\n",
    "    id = 1 #guarda o id do cliente \n",
    "    # Enquanto houver simulação:\n",
    "    while True:\n",
    "        # Passa um tempo até a próxima chegada\n",
    "        yield environment.timeout(140)\n",
    "        \n",
    "        # Um cliente chega no processo\n",
    "        environment.process(processo_aula3 (environment, 'Trabalho %d' % id, R1, R2, R3, retrabalho_repete))\n",
    "        \n",
    "        # O próximo cliente terá id = id + 1\n",
    "        id += 1"
   ]
  },
  {
   "attachments": {},
   "cell_type": "markdown",
   "metadata": {},
   "source": [
    "#### Condiderando 1 retrabalho no máximo por entrada"
   ]
  },
  {
   "cell_type": "code",
   "execution_count": 15,
   "metadata": {},
   "outputs": [],
   "source": [
    "TC=[]\n",
    "\n",
    "# Vamos rodar a simulação 30 vezes e guardar o Tempo de Ciclo Médio de cada uma!\n",
    "for i in range (30):\n",
    "    espera_A, espera_B, espera_C, espera_D, espera_E, espera_F,espera_G, espera_H, espera_I = [],[],[],[],[],[],[],[],[]\n",
    "    processamento_A, processamento_B, processamento_C, processamento_D, processamento_E, processamento_F,processamento_G, processamento_H, processamento_I = [],[],[],[],[],[],[],[],[] \n",
    "    tempo_de_ciclo = []\n",
    "    ambiente = simpy.Environment()\n",
    "    R1 = simpy.Resource(ambiente, capacity=1)\n",
    "    R2 = simpy.Resource(ambiente, capacity=1)\n",
    "    R3 = simpy.Resource(ambiente, capacity=1)\n",
    "    superatividade = [atividade_F, atividade_G]\n",
    "    ambiente.process(chegadas (ambiente, retrabalho_repete = False))\n",
    "    ambiente.run(until = 300000)\n",
    "\n",
    "    TC.append(np.mean(tempo_de_ciclo))\n"
   ]
  },
  {
   "cell_type": "code",
   "execution_count": 16,
   "metadata": {},
   "outputs": [
    {
     "name": "stdout",
     "output_type": "stream",
     "text": [
      "A média dos tempos de ciclo médios das 30 simulações foi: 92.49735300731949\n",
      "Na última simulação, o tempo de ciclo máximo foi 138\n",
      "Na última simulação, o tempo de ciclo mínimo foi 83\n"
     ]
    }
   ],
   "source": [
    "print (f\"A média dos tempos de ciclo médios das 30 simulações foi: {np.mean(TC)}\")\n",
    "print (f\"Na última simulação, o tempo de ciclo máximo foi {np.max(tempo_de_ciclo)}\")\n",
    "print (f\"Na última simulação, o tempo de ciclo mínimo foi {np.min(tempo_de_ciclo)}\")\n"
   ]
  },
  {
   "attachments": {},
   "cell_type": "markdown",
   "metadata": {},
   "source": [
    "#### Possibilitando vários retrabalhos"
   ]
  },
  {
   "cell_type": "code",
   "execution_count": 17,
   "metadata": {},
   "outputs": [],
   "source": [
    "TC=[]\n",
    "\n",
    "# Vamos rodar a simulação 30 vezes e guardar o Tempo de Ciclo Médio de cada uma!\n",
    "for i in range (30):\n",
    "    espera_A, espera_B, espera_C, espera_D, espera_E, espera_F,espera_G, espera_H, espera_I = [],[],[],[],[],[],[],[],[]\n",
    "    processamento_A, processamento_B, processamento_C, processamento_D, processamento_E, processamento_F,processamento_G, processamento_H, processamento_I = [],[],[],[],[],[],[],[],[] \n",
    "    tempo_de_ciclo = []\n",
    "    ambiente_2 = simpy.Environment()\n",
    "    R1 = simpy.Resource(ambiente_2, capacity=1)\n",
    "    R2 = simpy.Resource(ambiente_2, capacity=1)\n",
    "    R3 = simpy.Resource(ambiente_2, capacity=1)\n",
    "    superatividade = [atividade_F, atividade_G]\n",
    "    ambiente_2.process(chegadas (ambiente_2, retrabalho_repete = True)) # A MUDANÇA FOI AQUI!\n",
    "    ambiente_2.run(until = 300000)\n",
    "    TC.append(np.mean(tempo_de_ciclo))\n"
   ]
  },
  {
   "cell_type": "code",
   "execution_count": 18,
   "metadata": {},
   "outputs": [
    {
     "name": "stdout",
     "output_type": "stream",
     "text": [
      "A média dos tempos de ciclo médios das 30 simulações foi: 92.98781519873505\n",
      "Na última simulação, o tempo de ciclo máximo foi 286\n",
      "Na última simulação, o tempo de ciclo mínimo foi 83\n"
     ]
    }
   ],
   "source": [
    "print (f\"A média dos tempos de ciclo médios das 30 simulações foi: {np.mean(TC)}\")\n",
    "print (f\"Na última simulação, o tempo de ciclo máximo foi {np.max(tempo_de_ciclo)}\")\n",
    "print (f\"Na última simulação, o tempo de ciclo mínimo foi {np.min(tempo_de_ciclo)}\")"
   ]
  },
  {
   "attachments": {},
   "cell_type": "markdown",
   "metadata": {},
   "source": [
    "Interessante! Agora tivemos um tempo de ciclo máximo mais alto do que o esperado...\n",
    "\n",
    "Isso ocorre porque possivelmente houve espera por recursos no retrabalho!\n",
    "\n",
    "Também pode acontecer se um mesmo trabalho passou várias vezes por retrabalho."
   ]
  },
  {
   "attachments": {},
   "cell_type": "markdown",
   "metadata": {},
   "source": [
    "---"
   ]
  },
  {
   "attachments": {},
   "cell_type": "markdown",
   "metadata": {},
   "source": [
    "### Exercício\n",
    "\n",
    "Faça os seguintes testes buscando que o máximo tempo de ciclo encontrado diminua.\n",
    "\n",
    "- Aumente o suficiente a capacidade dos recurso. \n",
    "- Aumente o tempo entre chegadas."
   ]
  }
 ],
 "metadata": {
  "kernelspec": {
   "display_name": "Python 3.9.7 ('base')",
   "language": "python",
   "name": "python3"
  },
  "language_info": {
   "codemirror_mode": {
    "name": "ipython",
    "version": 3
   },
   "file_extension": ".py",
   "mimetype": "text/x-python",
   "name": "python",
   "nbconvert_exporter": "python",
   "pygments_lexer": "ipython3",
   "version": "3.9.7"
  },
  "orig_nbformat": 4,
  "vscode": {
   "interpreter": {
    "hash": "e4cce46d6be9934fbd27f9ca0432556941ea5bdf741d4f4d64c6cd7f8dfa8fba"
   }
  }
 },
 "nbformat": 4,
 "nbformat_minor": 2
}
