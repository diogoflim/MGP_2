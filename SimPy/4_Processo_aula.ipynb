{
 "cells": [
  {
   "attachments": {},
   "cell_type": "markdown",
   "id": "e159502c-561c-4d4e-94bb-26565d45cf11",
   "metadata": {},
   "source": [
    "[![Open In Colab](https://colab.research.google.com/assets/colab-badge.svg)](https://colab.research.google.com/github/diogoflim/MGP/blob/main/SimPy/4_Processo_aula.ipynb)"
   ]
  },
  {
   "attachments": {},
   "cell_type": "markdown",
   "id": "67f7a0db-b2fe-4613-aba7-d4d950eb86f5",
   "metadata": {},
   "source": [
    "# Modelagem e Gestão de Processos\n",
    "\n",
    "\n",
    "**Prof. Diogo Ferreira de Lima Silva (TEP-UFF)**\n",
    "\n"
   ]
  },
  {
   "cell_type": "code",
   "execution_count": null,
   "metadata": {},
   "outputs": [],
   "source": [
    "!pip install simpy"
   ]
  },
  {
   "cell_type": "code",
   "execution_count": null,
   "metadata": {},
   "outputs": [],
   "source": [
    "import simpy\n",
    "import random\n",
    "import numpy as np"
   ]
  },
  {
   "cell_type": "code",
   "execution_count": null,
   "metadata": {},
   "outputs": [],
   "source": [
    "random.seed(5)"
   ]
  },
  {
   "attachments": {},
   "cell_type": "markdown",
   "metadata": {},
   "source": [
    "Vamos modelar um processo visto na aula 3, contendo loop de retrabalho, atividades em paralelo e caminhos múltiplos.\n",
    "\n",
    "<img src=\"processo_aula3.png\">\n",
    "\n",
    "Lembrando que tínhamos 3 recursos a serem compartilhados pelas atividades:\n",
    "\n",
    "<img src=\"processo_aula3_recursos.png\">\n",
    "\n"
   ]
  },
  {
   "cell_type": "code",
   "execution_count": null,
   "metadata": {},
   "outputs": [],
   "source": [
    "def processo_aula3 (environment, trabalho_id, R1, R2, R3):\n",
    "        #guarde a informação na variável tempo_chegada.\n",
    "        tempo_chegada = environment.now \n",
    "\n",
    "        # Atividade A \n",
    "        with R1.request() as req:\n",
    "                yield req # Espere até um recurso R1 ficar disponível e guarde o tempo.\n",
    "\n",
    "                tempo_inicio_A = environment.now # tempo de inicio de A\n",
    "                espera_A.append(tempo_inicio_A - tempo_chegada) # tempo em fila de A\n",
    "\n",
    "                yield environment.timeout(2)  # Atividade A acontece\n",
    "\n",
    "                tempo_fim_A = environment.now # tempo fim de A\n",
    "                processamento_A.append(tempo_fim_A - tempo_inicio_A) # tempo de processamento de A\n",
    "\n",
    "        # Atividade B só acontece em 30% dos trabalhos\n",
    "        regra_B = random.uniform(0,1) \n",
    "        if regra_B < 0.3:\n",
    "                with R1.request() as req:\n",
    "                        yield req # Espere até um recurso R1 ficar disponível e guarde o tempo.\n",
    "                        \n",
    "                        tempo_inicio_B = environment.now # tempo de inicio de B\n",
    "                        espera_B.append(tempo_inicio_B - tempo_fim_A) # tempo em fila de B\n",
    "                        \n",
    "                        yield environment.timeout(5)  # Atividade B acontece\n",
    "                        \n",
    "                        tempo_fim_B = environment.now # tempo fim de B\n",
    "                        processamento_B.append(tempo_fim_B - tempo_inicio_B) # tempo de processamento de B\n",
    "    \n",
    "        # Atividade C\n",
    "        chegada_C = environment.now\n",
    "        with R2.request() as req:\n",
    "                yield req # Espere até um recurso R2 ficar disponível e guarde o tempo.\n",
    "                tempo_inicio_C = environment.now # tempo de inicio de C\n",
    "                # tempo em fila de C\n",
    "                espera_C.append(tempo_inicio_C - chegada_C) \n",
    "                yield environment.timeout(8)  # Atividade C acontece\n",
    "                tempo_fim_C = environment.now # tempo de finalização de C\n",
    "                processamento_C.append(tempo_fim_C - tempo_inicio_C) # tempo de processamento de C\n",
    "\n",
    "        # Atividade D\n",
    "        with R2.request() as req:\n",
    "                yield req # Espere até um recurso R2 ficar disponível e guarde o tempo.\n",
    "                \n",
    "                tempo_inicio_D = environment.now # tempo de inicio de D\n",
    "                espera_D.append(tempo_inicio_D - tempo_fim_C) # tempo em fila de D\n",
    "                \n",
    "                yield environment.timeout(3)  # Atividade D acontece\n",
    "                \n",
    "                tempo_fim_D = environment.now # tempo fim de D\n",
    "                processamento_D.append(tempo_fim_D - tempo_inicio_D) # tempo de processamento de D\n",
    "\n",
    "\n",
    "        # Atividade E\n",
    "        with R2.request() as req:\n",
    "                yield req # Espere até um recurso R2 ficar disponível e guarde o tempo.\n",
    "                \n",
    "                tempo_inicio_E = environment.now # tempo de inicio de E\n",
    "                espera_E.append(tempo_inicio_E - tempo_fim_D) # tempo em fila de E\n",
    "                \n",
    "                yield environment.timeout(4)  # Atividade E acontece\n",
    "                \n",
    "                tempo_fim_E = environment.now # tempo fim de E\n",
    "                processamento_E.append(tempo_fim_E - tempo_inicio_E) # tempo de processamento de E\n",
    "\n",
    "        # Atividade de Inspeção\n",
    "        tempo_inicio_I = environment.now # tempo de inicio de I\n",
    "        yield environment.timeout(4)  # Atividade I acontece\n",
    "        tempo_fim_I = environment.now  # tempo de fim de I\n",
    "        processamento_I.append(tempo_fim_I - tempo_inicio_I) # tempo de processamento de I\n",
    "\n",
    "        #Regra de Retrabalho\n",
    "        regra_I = random.uniform(0,1)\n",
    "        if regra_I < 0.1:\n",
    "                # Atividade D será refeita 1 vez\n",
    "                with R2.request() as req:\n",
    "                        yield req # Espere até um recurso R2 ficar disponível e guarde o tempo.\n",
    "                        tempo_inicio_D = environment.now # tempo de inicio de D\n",
    "                        espera_D.append(tempo_inicio_D - tempo_fim_C) # tempo em fila de D\n",
    "                        yield environment.timeout(3)  # Atividade D acontece\n",
    "                        tempo_fim_D = environment.now # tempo fim de D\n",
    "                        processamento_D.append(tempo_fim_D - tempo_inicio_D) # tempo de processamento de D\n",
    "                \n",
    "                # Atividade E será refeita 1 vez\n",
    "                with R2.request() as req:\n",
    "                        yield req # Espere até um recurso R2 ficar disponível e guarde o tempo.\n",
    "                        tempo_inicio_E = environment.now # tempo de inicio de E\n",
    "                        espera_E.append(tempo_inicio_E - tempo_fim_D) # tempo em fila de E\n",
    "                        yield environment.timeout(4)  # Atividade E acontece\n",
    "                        tempo_fim_E = environment.now # tempo fim de E\n",
    "                        processamento_E.append(tempo_fim_E - tempo_inicio_E) # tempo de processamento de E\n",
    "                \n",
    "                # Atividade de Inspeção será refeita 1 vez\n",
    "                tempo_inicio_I = environment.now # tempo de inicio de I\n",
    "                yield environment.timeout(4)  # Inspeção acontece\n",
    "                tempo_fim_I = environment.now  # tempo de fim de \n",
    "                processamento_I.append(tempo_fim_I - tempo_inicio_I) # tempo de processamento de I\n",
    "\n",
    "        # Atividade F\n",
    "        with R1.request() as req:\n",
    "                yield req # Espere até um recurso R1 ficar disponível e guarde o tempo.\n",
    "                tempo_inicio_F = environment.now # tempo de inicio de F\n",
    "                espera_E.append(tempo_inicio_F - tempo_fim_I) # tempo em fila de F\n",
    "                yield environment.timeout(2)  # Atividade F acontece\n",
    "                tempo_fim_F = environment.now # tempo fim de F\n",
    "                processamento_F.append(tempo_fim_F - tempo_inicio_F) # tempo de processamento de F\n",
    "\n",
    "        # Atividade G\n",
    "        with R3.request() as req:\n",
    "                yield req # Espere até um recurso R3 ficar disponível e guarde o tempo.\n",
    "                tempo_inicio_G = environment.now # tempo de inicio de G\n",
    "                espera_G.append(tempo_inicio_G - tempo_fim_I) # tempo em fila de G\n",
    "                yield environment.timeout(4)  # Atividade G acontece\n",
    "                tempo_fim_G = environment.now # tempo fim de F\n",
    "                processamento_G.append(tempo_fim_G - tempo_inicio_G) # tempo de processamento de G\n",
    "\n",
    "        # Atividade H\n",
    "        with R3.request() as req:\n",
    "                yield req # Espere até um recurso R3 ficar disponível e guarde o tempo.\n",
    "                tempo_inicio_H = environment.now # tempo de inicio de H\n",
    "                espera_H.append(tempo_inicio_H - tempo_fim_G) # tempo em fila de H\n",
    "                yield environment.timeout(2)  # Atividade H acontece\n",
    "                tempo_fim_H = environment.now # tempo fim de H\n",
    "                processamento_H.append(tempo_fim_H - tempo_inicio_H) # tempo de processamento de H\n",
    "        \n",
    "        tempo_ciclo.append(environment.now - tempo_chegada)"
   ]
  },
  {
   "cell_type": "code",
   "execution_count": null,
   "metadata": {},
   "outputs": [],
   "source": [
    "def chegadas (environment):\n",
    "    id = 1 #guarda o id do cliente \n",
    "    # Enquanto houver simulação:\n",
    "    while True:\n",
    "        # Passa um tempo até a próxima chegada, seguindo exponencial com média (1/lambda)\n",
    "        yield environment.timeout(50)\n",
    "        \n",
    "        # Um cliente chega no processo\n",
    "        environment.process(processo_aula3 (environment, 'Trabalho %d' % id, R1, R2, R3))\n",
    "        \n",
    "        # O próximo cliente terá id = id + 1\n",
    "        id += 1"
   ]
  },
  {
   "cell_type": "code",
   "execution_count": null,
   "metadata": {},
   "outputs": [],
   "source": [
    "espera_A, espera_B, espera_C, espera_D, espera_E, espera_F,espera_G, espera_H, espera_I = [],[],[],[],[],[],[],[],[]\n",
    "processamento_A, processamento_B, processamento_C, processamento_D, processamento_E, processamento_F,processamento_G, processamento_H, processamento_I = [],[],[],[],[],[],[],[],[] \n",
    "tempo_ciclo = []\n",
    "\n",
    "ambiente = simpy.Environment()\n",
    "R1 = simpy.Resource(ambiente, capacity=1)\n",
    "R2 = simpy.Resource(ambiente, capacity=1)\n",
    "R3 = simpy.Resource(ambiente, capacity=1)\n",
    "ambiente.process(chegadas (ambiente))\n",
    "ambiente.run(until = 100000)"
   ]
  },
  {
   "cell_type": "code",
   "execution_count": null,
   "metadata": {},
   "outputs": [],
   "source": [
    "np.max(tempo_ciclo)"
   ]
  },
  {
   "cell_type": "code",
   "execution_count": null,
   "metadata": {},
   "outputs": [],
   "source": [
    "np.min(tempo_ciclo)"
   ]
  },
  {
   "cell_type": "code",
   "execution_count": null,
   "metadata": {},
   "outputs": [],
   "source": [
    "np.mean(tempo_ciclo)"
   ]
  },
  {
   "attachments": {},
   "cell_type": "markdown",
   "metadata": {},
   "source": [
    "## Atenção\n",
    "\n",
    "**Da forma que fizemos acima, não estamos considerando as atividades em paralelo!!!**\n",
    "\n",
    "- Para funcionar da maneira correta, podemos usar a função so Simpy: \"environment.all_of()\"\n",
    "\n",
    "- Essa função trabalhará as atividades dispostas em uma lista simultaneamente!\n",
    "\n",
    "- Faremos isso no próximo notebook"
   ]
  }
 ],
 "metadata": {
  "kernelspec": {
   "display_name": "Python 3.9.7 ('base')",
   "language": "python",
   "name": "python3"
  },
  "language_info": {
   "codemirror_mode": {
    "name": "ipython",
    "version": 3
   },
   "file_extension": ".py",
   "mimetype": "text/x-python",
   "name": "python",
   "nbconvert_exporter": "python",
   "pygments_lexer": "ipython3",
   "version": "3.9.7"
  },
  "orig_nbformat": 4,
  "vscode": {
   "interpreter": {
    "hash": "e4cce46d6be9934fbd27f9ca0432556941ea5bdf741d4f4d64c6cd7f8dfa8fba"
   }
  }
 },
 "nbformat": 4,
 "nbformat_minor": 2
}
