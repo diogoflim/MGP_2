{
 "cells": [
  {
   "cell_type": "markdown",
   "metadata": {},
   "source": [
    "[![Open In Colab](https://colab.research.google.com/assets/colab-badge.svg)](https://colab.research.google.com/github/diogoflim/MGP/blob/main/GP/Multicritério/mcda_2.ipynb)\n"
   ]
  },
  {
   "cell_type": "code",
   "execution_count": null,
   "metadata": {},
   "outputs": [],
   "source": [
    "import pandas as pd\n",
    "import numpy as np"
   ]
  },
  {
   "cell_type": "markdown",
   "metadata": {},
   "source": [
    "# Modelagem e Gestão de Processos\n",
    "\n",
    "TEP - UFF\n",
    "\n",
    "\n",
    "**Professor: Diogo Ferreira de Lima Silva**"
   ]
  },
  {
   "cell_type": "markdown",
   "metadata": {},
   "source": [
    "## Análise de Fornecedores\n",
    "\n",
    "Uma organização deseja selecionar os melhores fornecedores para a realização de uma certa atividade. Para isso, seis critérios foram considerados e as avaliações dos fornecedores são dadas na tabela abaixo.\n",
    "\n",
    "| Fornecedores | Preço         | Qualidade | Confiabilidade | Credibilidade | Assistência | Lead time |\n",
    "|--------------|---------------|-----------|-----------------|---------------|-------------|-----------|\n",
    "| Fornecedor 1 | 1.834.600,20  | 1         | 18              | 90            | 1           | 30        |\n",
    "| Fornecedor 2 | 1.823.240,00  | 2         | 5               | 100           | 0           | 30        |\n",
    "| Fornecedor 3 | 1.902.311,00  | 3         | 10              | 80            | 1           | 30        |\n",
    "| Fornecedor 4 | 1.795.200,00  | 1         | 9               | 95            | 0           | 30        |\n",
    "| Fornecedor 5 | 1.712.000,50  | 2         | 1               | 100           | 0           | 35        |\n",
    "| Fornecedor 6 | 1.697.890,25  | 3         | 16              | 90            | 1           | 45        |\n",
    "| Fornecedor 7 | 1.722.765,33  | 2         | 4               | 85            | 1           | 40        |\n",
    "\n",
    "Fonte: [artigo_sbpo](https://proceedings.science/sbpo/sbpo-2022/trabalhos/uso-do-metodo-fitradeoff-para-selecao-de-fornecedores-em-um-processo-licitatorio?lang=pt-br)\n",
    "\n",
    "Aplique o método ELECTRE I para encontrar o conjunto de alternativas não dominadas (kernel)."
   ]
  },
  {
   "cell_type": "code",
   "execution_count": null,
   "metadata": {},
   "outputs": [],
   "source": [
    "data = {\n",
    "    'Fornecedores': ['Fornecedor 1', 'Fornecedor 2', 'Fornecedor 3', 'Fornecedor 4', 'Fornecedor 5', 'Fornecedor 6', 'Fornecedor 7'],\n",
    "    'Preço': [-1834600.20, -1823240.00, -1902311.00, -1795200.00, -1712000.50, -1697890.25, -1722765.33],\n",
    "    'Qualidade': [1, 2, 3, 1, 2, 3, 2],\n",
    "    'Confiabilidade': [18, 5, 10, 9, 1, 16, 4],\n",
    "    'Credibilidade': [90, 100, 80, 95, 100, 90, 85],\n",
    "    'Assistência': [1, 0, 1, 0, 0, 1, 1],\n",
    "    'Lead time': [-30, -30, -30, -30, -35, -45, -40]\n",
    "}\n",
    "\n",
    "df = pd.DataFrame(data).set_index(\"Fornecedores\")\n",
    "df"
   ]
  },
  {
   "cell_type": "markdown",
   "metadata": {},
   "source": [
    "# Decisão Multicritério\n",
    "\n",
    "A literatura de decisão multicritério apresenta uma vasta quantidade de métodos para a resolução de problemas de decisão que envolvem múltiplos objetivos, muitas vezes conflitantes.\n",
    "\n",
    "A Biblioteca PyDecision (https://github.com/Valdecy/pyDecision) inclui diversos métodos em Python. "
   ]
  },
  {
   "cell_type": "code",
   "execution_count": null,
   "metadata": {},
   "outputs": [],
   "source": [
    "# No Google Colab\n",
    "!pip install pyDecision"
   ]
  },
  {
   "cell_type": "markdown",
   "metadata": {},
   "source": [
    "# ELECTRE I\n",
    "\n",
    "Para resolver um problema de decisão que se enquadra na problemática da escolha, pode-se aplicar o método ELECTRE I.\n",
    "\n",
    "Os métodos da família ELECTRE apresentam características interessantes. São não compensatórios, apresentam comparações par-a-par e exploração de relações de sobreclassificação.\n",
    "\n",
    "No caso do ELECTRE I, busca-se alcançar um kernel de alternativas não dominadas.\n",
    "\n",
    "Os únicos parâmetros desse método incluem os pesos dos critérios $W = [w_1, w_2, ..., w_n]$, e os limiares de concordância ($\\hat{c}$) e discordância ($\\hat{d}$)."
   ]
  },
  {
   "cell_type": "markdown",
   "metadata": {},
   "source": [
    "Inicialmente, vamos importar a biblioteca e o método correspondente:"
   ]
  },
  {
   "cell_type": "code",
   "execution_count": null,
   "metadata": {},
   "outputs": [],
   "source": [
    "from pyDecision.algorithm import electre_i"
   ]
  },
  {
   "cell_type": "markdown",
   "metadata": {},
   "source": [
    "Em seguida, passaremos a nossa matriz de decisão para o formato adequado de leitura da biblioteca.\n",
    "\n",
    "A biblioteca PyDecision utiliza **numpy** arrays, assim, a conversão é bastante simples:"
   ]
  },
  {
   "cell_type": "code",
   "execution_count": null,
   "metadata": {},
   "outputs": [],
   "source": [
    "X = np.array(df)\n",
    "\n",
    "X"
   ]
  },
  {
   "cell_type": "markdown",
   "metadata": {},
   "source": [
    "Vamos definir nosso vetor de pesos:"
   ]
  },
  {
   "cell_type": "code",
   "execution_count": null,
   "metadata": {},
   "outputs": [],
   "source": [
    "W = [0.2, 0.1, 0.1, 0.2, 0.2, 0.2]"
   ]
  },
  {
   "cell_type": "markdown",
   "metadata": {},
   "source": [
    "Agora, só nos resta definir os limiares de concordância e discordância:"
   ]
  },
  {
   "cell_type": "code",
   "execution_count": null,
   "metadata": {},
   "outputs": [],
   "source": [
    "c_hat = 0.7\n",
    "d_hat = 0.4"
   ]
  },
  {
   "cell_type": "markdown",
   "metadata": {},
   "source": [
    "### Aplicação do ELECTRE I\n",
    "\n",
    "Vamos aplicar a função específica abaixo. Perceba que o grafo correspondente às relações de sobreclassificação será impresso. "
   ]
  },
  {
   "cell_type": "code",
   "execution_count": null,
   "metadata": {},
   "outputs": [],
   "source": [
    "concordance, discordance, dominance, kernel, dominated = electre_i(X, W = W, remove_cycles = True, c_hat = c_hat, d_hat = d_hat, graph = True)"
   ]
  },
  {
   "cell_type": "code",
   "execution_count": null,
   "metadata": {},
   "outputs": [],
   "source": [
    "dominance # Matriz de relações de sobreclassificação"
   ]
  },
  {
   "cell_type": "code",
   "execution_count": null,
   "metadata": {},
   "outputs": [],
   "source": [
    "kernel # kernel"
   ]
  },
  {
   "cell_type": "markdown",
   "metadata": {},
   "source": [
    "**Solução:** os fornecedores 5 e 6 seriam selecionados. Perceba que as colunas correspondentes não possuem valores 1."
   ]
  },
  {
   "cell_type": "markdown",
   "metadata": {},
   "source": [
    "## Exercício\n",
    "\n",
    "\n",
    "Faça alterações nos limiares c_hat e d_hat. Verifique se as relações permanecem as mesmas. "
   ]
  },
  {
   "cell_type": "code",
   "execution_count": null,
   "metadata": {},
   "outputs": [],
   "source": []
  },
  {
   "cell_type": "markdown",
   "metadata": {},
   "source": [
    "# ELECTRE TRI\n",
    "\n",
    "\n",
    "Para problemas de **classificação**, a família de métodos ELECTRE apresenta o ELECTRE TRI. \n",
    "\n",
    "Em sua versão clássica, é também conhecido por ELECTRE TRI-B. \n",
    "\n",
    "A letra \"B\" significa boundary, indicando que o método usa perfis de fronteira entre as classes.\n",
    "\n"
   ]
  },
  {
   "cell_type": "code",
   "execution_count": null,
   "metadata": {},
   "outputs": [],
   "source": [
    "from pyDecision.algorithm import electre_tri_b"
   ]
  },
  {
   "cell_type": "markdown",
   "metadata": {},
   "source": [
    "Para a problemática de classificação, vamos usar o exemplo da análise de países em acordo com os indicadores do Legathum Prosperity Index."
   ]
  },
  {
   "cell_type": "code",
   "execution_count": null,
   "metadata": {},
   "outputs": [],
   "source": [
    "url = 'https://raw.githubusercontent.com/diogoflim/ProjIntegrador_PO_IA/main/Dados/LegathumProsperityIndex.csv'\n",
    "df = pd.read_csv(url, index_col=0, sep = ';')\n",
    "\n",
    "df.iloc[:10]"
   ]
  },
  {
   "cell_type": "code",
   "execution_count": null,
   "metadata": {},
   "outputs": [],
   "source": [
    "X = np.array(df)\n",
    "X"
   ]
  },
  {
   "cell_type": "markdown",
   "metadata": {},
   "source": [
    "No método ELECTRE TRI, além dos pesos dos critérios, precisamos indicar se existem:\n",
    "\n",
    "- Limiares de indiferença;\n",
    "- Limiares de preferência;\n",
    "- Limiares de veto;\n",
    "- Nível de corte;\n",
    "\n",
    "Além desses parâmetros, o decisor precisa indicar perfis que ilustram a fronteira entre cada duas classes consecutivas.\n",
    "\n",
    "Digamos que nosso problema possui 3 classes, onde: $C_0 \\succ C_1 \\succ C_2$. \n",
    "\n",
    "Nesse caso, devem ser estabelecidos **dois perfis de fronteira**. \n",
    "\n",
    "- Um perfil indicará a fronteira entre as classes $C_0$ e $C_1$.\n",
    "- Um perfil indicará a fronteira entre as classes $C_1$ e $C_2$.\n",
    "\n"
   ]
  },
  {
   "cell_type": "code",
   "execution_count": null,
   "metadata": {},
   "outputs": [],
   "source": [
    "W = [1/12, 1/12, 1/12, 1/12, 1/12, 1/12, 1/12, 1/12, 1/12, 1/12, 1/12, 1/12] #pesos\n",
    "\n",
    "Q = [5, 5, 5, 5, 5, 5, 5, 5, 5, 5, 5, 5] # limiares de indiferença\n",
    "P = [10, 10, 10, 10, 10, 10, 10, 10, 10, 10, 10, 10] # limiares de preferência\n",
    "V = [50,  50,  50, 50,  50, 50, 50, 50, 50, 50, 50, 50] # limiares de veto\n",
    "\n",
    "lambda_ = 0.75 # cut level\n",
    "\n",
    "# Perfis de Fronteira\n",
    "B = [[50, 50, 50, 50, 50, 50, 50, 50, 50, 50, 50, 50], \n",
    "     [80, 80, 80, 80, 80, 80, 80, 80, 80, 80, 80, 80]]"
   ]
  },
  {
   "cell_type": "code",
   "execution_count": null,
   "metadata": {},
   "outputs": [],
   "source": [
    "classification = electre_tri_b(X, W , Q , P , V , B, cut_level = lambda_ , verbose = False, rule = 'oc', graph = True)"
   ]
  },
  {
   "cell_type": "code",
   "execution_count": null,
   "metadata": {},
   "outputs": [],
   "source": [
    "classification"
   ]
  },
  {
   "cell_type": "code",
   "execution_count": null,
   "metadata": {},
   "outputs": [],
   "source": [
    "classification_df = pd.DataFrame(classification, columns=[\"Classe\"], index = df.index)\n",
    "classification_df"
   ]
  },
  {
   "cell_type": "code",
   "execution_count": null,
   "metadata": {},
   "outputs": [],
   "source": [
    "classification_df.value_counts()"
   ]
  },
  {
   "cell_type": "code",
   "execution_count": null,
   "metadata": {},
   "outputs": [],
   "source": [
    "classification_df[classification_df[\"Classe\"]==0]"
   ]
  },
  {
   "cell_type": "code",
   "execution_count": null,
   "metadata": {},
   "outputs": [],
   "source": [
    "classification_df[classification_df[\"Classe\"]==2]"
   ]
  },
  {
   "cell_type": "markdown",
   "metadata": {},
   "source": [
    "## Exercício\n",
    "\n",
    "Aplique a classificação usando a regra pessimista. Os resultados foram alterados? Comente."
   ]
  },
  {
   "cell_type": "code",
   "execution_count": null,
   "metadata": {},
   "outputs": [],
   "source": []
  },
  {
   "cell_type": "code",
   "execution_count": null,
   "metadata": {},
   "outputs": [],
   "source": []
  },
  {
   "cell_type": "markdown",
   "metadata": {},
   "source": [
    "## Exercício\n",
    "\n",
    "Aumente o número de classes para 5.\n",
    "\n",
    "Nesse caso, você precisará definir 4 perfis de fronteira!\n",
    "\n",
    "Analise os resultados"
   ]
  },
  {
   "cell_type": "code",
   "execution_count": null,
   "metadata": {},
   "outputs": [],
   "source": []
  },
  {
   "cell_type": "code",
   "execution_count": null,
   "metadata": {},
   "outputs": [],
   "source": []
  }
 ],
 "metadata": {
  "kernelspec": {
   "display_name": "base",
   "language": "python",
   "name": "python3"
  },
  "language_info": {
   "codemirror_mode": {
    "name": "ipython",
    "version": 3
   },
   "file_extension": ".py",
   "mimetype": "text/x-python",
   "name": "python",
   "nbconvert_exporter": "python",
   "pygments_lexer": "ipython3",
   "version": "3.9.7"
  }
 },
 "nbformat": 4,
 "nbformat_minor": 2
}
