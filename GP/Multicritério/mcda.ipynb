{
 "cells": [
  {
   "cell_type": "markdown",
   "metadata": {},
   "source": [
    "[![Open In Colab](https://colab.research.google.com/assets/colab-badge.svg)](https://colab.research.google.com/github/diogoflim/MGP/blob/main/GP/mcda.ipynb)\n"
   ]
  },
  {
   "cell_type": "markdown",
   "metadata": {},
   "source": [
    "## Conjunto de dados\n",
    "\n",
    "Trabalharemos inicialmente com um conjunto de dados do Legathum Prosperity Index que avalia países com base em 12 indicadores socioeconômicos. \n"
   ]
  },
  {
   "cell_type": "code",
   "execution_count": null,
   "metadata": {},
   "outputs": [],
   "source": [
    "import pandas as pd # biblioteca utilizada para a leitura de dados\n",
    "import numpy as np # biblioteca para trabalhar com matrizes e operações de Álgebra Linear em Python"
   ]
  },
  {
   "cell_type": "code",
   "execution_count": null,
   "metadata": {},
   "outputs": [],
   "source": [
    "# A matriz de dados está disponível no link do github abaixo. \n",
    "# Assim, a leitura dos dados pode ser realizada de maneira direta através do link\n",
    "\n",
    "url = 'https://raw.githubusercontent.com/diogoflim/ProjIntegrador_PO_IA/main/Dados/LegathumProsperityIndex.csv'\n",
    "df = pd.read_csv(url, index_col=0, sep = ';')"
   ]
  },
  {
   "cell_type": "code",
   "execution_count": null,
   "metadata": {},
   "outputs": [],
   "source": [
    "# Visualização inicial da tabela\n",
    "df"
   ]
  },
  {
   "cell_type": "code",
   "execution_count": null,
   "metadata": {},
   "outputs": [],
   "source": [
    "# O método describe da biblioteca pandas pode ser usado para realizarmos uma descriç~]ao inicial dos dados da tabela \n",
    "df.describe()"
   ]
  },
  {
   "cell_type": "code",
   "execution_count": null,
   "metadata": {},
   "outputs": [],
   "source": [
    "# Além disso, podemos plotar a distribuição dos dados para cada um dos critérios. Vejamos abaixo.\n",
    "\n",
    "df.hist(bins=50, figsize=(15, 10))"
   ]
  },
  {
   "cell_type": "markdown",
   "metadata": {},
   "source": [
    "Para o uso da biblioteca PyDecision, passaremos a matriz de decisão para o formato de array do numpy.\n",
    "\n",
    "Isso pode ser realizado de maneira simples, conforme ilustrado abaixo"
   ]
  },
  {
   "cell_type": "code",
   "execution_count": null,
   "metadata": {},
   "outputs": [],
   "source": [
    "X = np.array(df)\n",
    "X"
   ]
  },
  {
   "cell_type": "code",
   "execution_count": null,
   "metadata": {},
   "outputs": [],
   "source": [
    "m, n = X.shape\n",
    "\n",
    "print(f'O número de alternativas é: {m}\\nO número de critérios é: {n}')"
   ]
  },
  {
   "cell_type": "markdown",
   "metadata": {},
   "source": [
    "# Decisão Multicritério\n",
    "\n",
    "A literatura de decisão multicritério apresenta uma vasta quantidade de métodos para a resolução de problemas de decisão que envolvem múltiplos objetivos, muitas vezes conflitantes.\n",
    "\n",
    "A Biblioteca PyDecision (https://github.com/Valdecy/pyDecision) inclui diversos métodos em Python. "
   ]
  },
  {
   "cell_type": "code",
   "execution_count": null,
   "metadata": {},
   "outputs": [],
   "source": [
    "# No Google Colab\n",
    "!pip install pyDecision"
   ]
  },
  {
   "cell_type": "code",
   "execution_count": null,
   "metadata": {},
   "outputs": [],
   "source": [
    "from pyDecision.algorithm import promethee_ii"
   ]
  },
  {
   "cell_type": "markdown",
   "metadata": {},
   "source": [
    "## PROMETHEE II\n",
    "\n",
    "Inicialmente, aplicaremos os métodos PROMETHEE I e PROMETHEE II são usados para ordenar alternativas em problemas de análise multicritério."
   ]
  },
  {
   "cell_type": "markdown",
   "metadata": {},
   "source": [
    "Como visto na aula, os parâmetros do PROMETHEE II incluem:\n",
    "\n",
    "- O tipo de função de preferências de cada critério;\n",
    "- Limiares de indiferença, preferência e veto para cada critério;\n",
    "- Pesos dos critérios;\n",
    "- Parâmetro $s$, caso a função de preferência s-curve seja escolhida para algum critério."
   ]
  },
  {
   "cell_type": "code",
   "execution_count": null,
   "metadata": {},
   "outputs": [],
   "source": [
    "# Parâmetros\n",
    "Q = [5, 5, 5, 5, 5, 5, 5, 5, 5, 5, 5, 5] # Limiares de indiferença\n",
    "P = [20 for j in range(n)] # Limiares de preferência\n",
    "W = [1/n for j in range(n)] # pesos\n",
    "S = [0 for j in range(n)] # s (caso use o critério Gaussiano)\n",
    "F = ['t5' for j in range(n)] # 't1' = Usual; 't2' = U-Shape; 't3' = V-Shape; 't4' = Level; 't5' = V-Shape with Indifference; 't6' = Gaussian; 't7' = C-Form\n"
   ]
  },
  {
   "cell_type": "code",
   "execution_count": null,
   "metadata": {},
   "outputs": [],
   "source": [
    "P"
   ]
  },
  {
   "cell_type": "markdown",
   "metadata": {},
   "source": [
    "Vamos aplicar o PROMETHEE e armazenar os fluxos líquidos em p2.\n",
    "\n",
    "Imprimiremos na tela os resultados das 20 primeiras alternativas "
   ]
  },
  {
   "cell_type": "code",
   "execution_count": null,
   "metadata": {},
   "outputs": [],
   "source": [
    "resultados = promethee_ii(X, W = W, Q = Q, S = S, P = P, F = F, sort = False, topn = 20)"
   ]
  },
  {
   "cell_type": "markdown",
   "metadata": {},
   "source": [
    "Podemos acessar os fluxos líquidos das alternativas e incluí-los em um DataFrame!"
   ]
  },
  {
   "cell_type": "code",
   "execution_count": null,
   "metadata": {},
   "outputs": [],
   "source": [
    "ranking = pd.DataFrame(resultados[:,1], columns = ['Fluxo Líquido'], index = df.index)\n",
    "ordem = ranking.sort_values(\"Fluxo Líquido\", ascending=False)\n",
    "ordem.iloc[:10] #print os 10 primeiros colocados"
   ]
  },
  {
   "cell_type": "markdown",
   "metadata": {},
   "source": [
    "## Exercício 1\n",
    "\n",
    "Considere o problema de decisão da ordenação de países com base nos dados do Legatum Institute. \n",
    "\n",
    "Ao invés de utilizar a função V-shape (tipo 5) para todos os critérios, poderíamos usar funções diferentes para critérios distintos. \n",
    "\n",
    "Além disso, poderíamos usar valores distintos para os limiares de preferência e indiferença!\n",
    "\n",
    "Faça o seguinte teste:\n",
    "\n",
    "- Para os oito primeiros critérios, utilize a função de preferência critério usual (tipo 1)\n",
    "- Para os critérios $g_9$ e $g_{10}$, use a função do tipo 2, com parâmetros: $q_9 = 7$ e $q_{10} = 6$.\n",
    "- Para os critérios $g_{11}$ e $g_{12}$, use a função do tipo 5, com os parâmetros a seguir: $q_{11} = q_{12} = 10$ e $p_{11} = p_{12} = 20$\n",
    "\n",
    "O ranking se alterou? Dentre as 10 primeiras alternativas, quantas permaneceram?"
   ]
  },
  {
   "cell_type": "code",
   "execution_count": null,
   "metadata": {},
   "outputs": [],
   "source": []
  },
  {
   "cell_type": "code",
   "execution_count": null,
   "metadata": {},
   "outputs": [],
   "source": []
  },
  {
   "cell_type": "code",
   "execution_count": null,
   "metadata": {},
   "outputs": [],
   "source": []
  },
  {
   "cell_type": "markdown",
   "metadata": {},
   "source": [
    "## Exercício 2: Ordenação de Fornecedores\n",
    "\n",
    "Uma organização deseja ordenar suas alternativas de fornecedores para a realização de uma certa atividade. Para isso, seis critérios foram selecionados e as avaliações dos fornecedores é dada na tabela abaixo.\n",
    "\n",
    "| Fornecedores | Preço         | Qualidade | Confiabilidade | Credibilidade | Assistência | Lead time |\n",
    "|--------------|---------------|-----------|-----------------|---------------|-------------|-----------|\n",
    "| Fornecedor 1 | 1.834.600,20  | 1         | 18              | 90            | 1           | 30        |\n",
    "| Fornecedor 2 | 1.823.240,00  | 2         | 5               | 100           | 0           | 30        |\n",
    "| Fornecedor 3 | 1.902.311,00  | 3         | 10              | 80            | 1           | 30        |\n",
    "| Fornecedor 4 | 1.795.200,00  | 1         | 9               | 95            | 0           | 30        |\n",
    "| Fornecedor 5 | 1.712.000,50  | 2         | 1               | 100           | 0           | 35        |\n",
    "| Fornecedor 6 | 1.697.890,25  | 3         | 16              | 90            | 1           | 45        |\n",
    "| Fornecedor 7 | 1.722.765,33  | 2         | 4               | 85            | 1           | 40        |\n",
    "\n",
    "Fonte: [artigo_sbpo](https://proceedings.science/sbpo/sbpo-2022/trabalhos/uso-do-metodo-fitradeoff-para-selecao-de-fornecedores-em-um-processo-licitatorio?lang=pt-br)\n",
    "\n",
    "Aplique o método PROMETHEE II para ordenar as alternativas.\n",
    "\n",
    "Observação: Perceba que para os critérios \"preço\" e \"lead time\" valores mais altos são piores. Assim, multiplique essas colunas por -1 antes de aplicar o método."
   ]
  },
  {
   "cell_type": "code",
   "execution_count": null,
   "metadata": {},
   "outputs": [],
   "source": [
    "data = {\n",
    "    'Fornecedores': ['Fornecedor 1', 'Fornecedor 2', 'Fornecedor 3', 'Fornecedor 4', 'Fornecedor 5', 'Fornecedor 6', 'Fornecedor 7'],\n",
    "    'Preço': [-1834600.20, -1823240.00, -1902311.00, -1795200.00, -1712000.50, -1697890.25, -1722765.33],\n",
    "    'Qualidade': [1, 2, 3, 1, 2, 3, 2],\n",
    "    'Confiabilidade': [18, 5, 10, 9, 1, 16, 4],\n",
    "    'Credibilidade': [90, 100, 80, 95, 100, 90, 85],\n",
    "    'Assistência': [1, 0, 1, 0, 0, 1, 1],\n",
    "    'Lead time': [-30, -30, -30, -30, -35, -45, -40]\n",
    "}\n",
    "\n",
    "df = pd.DataFrame(data).set_index(\"Fornecedores\")\n",
    "df"
   ]
  },
  {
   "cell_type": "markdown",
   "metadata": {},
   "source": [
    "1. Inicialmente, escolha a função do tipo 1 para todos os critérios e utilize pesos iguais.\n",
    "\n"
   ]
  },
  {
   "cell_type": "code",
   "execution_count": null,
   "metadata": {},
   "outputs": [],
   "source": []
  },
  {
   "cell_type": "code",
   "execution_count": null,
   "metadata": {},
   "outputs": [],
   "source": []
  },
  {
   "cell_type": "markdown",
   "metadata": {},
   "source": [
    "2. Em seguida, no critério confiabilidade, selecione a função do tipo 5 usando os parâmetros $q_3 = 3$ e $p_3 = 5$.\n"
   ]
  },
  {
   "cell_type": "code",
   "execution_count": null,
   "metadata": {},
   "outputs": [],
   "source": []
  },
  {
   "cell_type": "code",
   "execution_count": null,
   "metadata": {},
   "outputs": [],
   "source": []
  },
  {
   "cell_type": "markdown",
   "metadata": {},
   "source": [
    "3. Realize variações nos parâmetros para realizar testes adicionais. Por exemplo, para um decisor que prioriza o lead time (cosidera esse critério com peso mais alto que os demais), o resultado seria alterado?\n"
   ]
  },
  {
   "cell_type": "code",
   "execution_count": null,
   "metadata": {},
   "outputs": [],
   "source": []
  },
  {
   "cell_type": "code",
   "execution_count": null,
   "metadata": {},
   "outputs": [],
   "source": []
  }
 ],
 "metadata": {
  "kernelspec": {
   "display_name": "base",
   "language": "python",
   "name": "python3"
  },
  "language_info": {
   "codemirror_mode": {
    "name": "ipython",
    "version": 3
   },
   "file_extension": ".py",
   "mimetype": "text/x-python",
   "name": "python",
   "nbconvert_exporter": "python",
   "pygments_lexer": "ipython3",
   "version": "3.9.7"
  },
  "orig_nbformat": 4
 },
 "nbformat": 4,
 "nbformat_minor": 2
}
