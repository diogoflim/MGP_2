{
 "cells": [
  {
   "cell_type": "markdown",
   "id": "312233b5",
   "metadata": {},
   "source": [
    "[![Open In Colab](https://colab.research.google.com/assets/colab-badge.svg)](https://colab.research.google.com/github/diogoflim/MGP/blob/main/GP/Previsão/Reg_linear.ipynb)\n"
   ]
  },
  {
   "cell_type": "markdown",
   "id": "c168172b",
   "metadata": {},
   "source": [
    "# Modelagem e Gestão de Processos\n",
    "\n",
    "\n",
    "**Prof. Diogo Ferreira de Lima Silva (TEP-UFF)**\n"
   ]
  },
  {
   "cell_type": "markdown",
   "id": "3ec05b30-81b8-43f8-a226-cf3638a317d8",
   "metadata": {},
   "source": [
    "## Bibliotecas"
   ]
  },
  {
   "cell_type": "code",
   "execution_count": 1,
   "id": "e7565234-7433-4403-9590-bf926ed94b9f",
   "metadata": {},
   "outputs": [],
   "source": [
    "import numpy as np\n",
    "%matplotlib inline\n",
    "import matplotlib.pyplot as plt"
   ]
  },
  {
   "cell_type": "markdown",
   "id": "9615b5a6-2c48-45be-b506-6c4ad74e9422",
   "metadata": {},
   "source": [
    "# Regressão"
   ]
  },
  {
   "cell_type": "markdown",
   "id": "8392d34f-f652-4d66-9837-6cc37f8efa89",
   "metadata": {},
   "source": [
    "Em tarefas de regressão, o programa de computador é solicitado a aprender uma função que gera um rótulo com valor numérico (ex: um número real) dado alguma entrada. \n",
    "\n",
    "Para resolver essa tarefa, o algoritmo de aprendizagem precisa gerar uma função:\n",
    "\n",
    "$$\\hat{y} = f:\\mathbb{R}^n→\\mathbb{R}$$ "
   ]
  },
  {
   "cell_type": "markdown",
   "id": "337075ec-b43b-4c23-99bc-09e1c88186d7",
   "metadata": {},
   "source": [
    "## Regressão Linear"
   ]
  },
  {
   "cell_type": "markdown",
   "id": "65610309-a072-4f9d-b6e8-483b39b5c099",
   "metadata": {},
   "source": [
    "Em um modelo de regressão linear, a função aprendida $f$ apresenta linearidade em termos dos parâmetros.\n",
    "\n",
    "Exemplo:\n",
    "\n",
    "$$f_{\\vec{w},b}(\\vec{x})=w_1x_1+w_2x_2+...+w_nx_n + b$$\n",
    "\n",
    "$\\vec{w}$ e $b$ são os parâmetros (coeficientes, pesos) que desejamos aprender\n"
   ]
  },
  {
   "cell_type": "markdown",
   "id": "b52dc91b-11a0-49a0-a33a-1bc3074dc84d",
   "metadata": {},
   "source": [
    "## Regressão Linear Simples"
   ]
  },
  {
   "cell_type": "markdown",
   "id": "213ad97f-6a90-49a0-8d0b-796a1cfb8e51",
   "metadata": {},
   "source": [
    "Para entender a intuição de modelos de regressão linear, iniciaremos com o caso mais simples, quando há apenas um atributo x. \n",
    "\n",
    "**Esse modelo é chamado de regressão linear simples.**\n",
    "\n",
    "Exemplos:\n",
    "\n",
    "- entender o relacionamento entre os preços de títulos financeiros e o valor do dólar;  \n",
    "- prever o consumo de energia elétrica com base no tamanho da fábrica."
   ]
  },
  {
   "cell_type": "markdown",
   "id": "fd78fc4c",
   "metadata": {},
   "source": [
    "### Reproducibilidade\n",
    "\n",
    "Os serão gerados nessa aula aleatoriamente. Porém, sabemos que no computador essa geração é **pseudoaleatória**.\n",
    "\n",
    "Podemos travar a semente aleatória e, assim, garantiremos a reprodutibilidade dos experimentos."
   ]
  },
  {
   "cell_type": "code",
   "execution_count": 2,
   "id": "73278cef",
   "metadata": {},
   "outputs": [],
   "source": [
    "np.random.seed(0)  "
   ]
  },
  {
   "cell_type": "code",
   "execution_count": 3,
   "id": "5fbb9329-eb6c-4d77-a1a0-22c1eb47b20c",
   "metadata": {},
   "outputs": [
    {
     "name": "stdout",
     "output_type": "stream",
     "text": [
      "[[238.2026173 ]\n",
      " [170.00786042]\n",
      " [198.93689921]\n",
      " [262.04465996]\n",
      " [243.37789951]\n",
      " [101.13610601]\n",
      " [197.50442088]\n",
      " [142.43213959]\n",
      " [144.83905741]\n",
      " [170.5299251 ]]\n"
     ]
    }
   ],
   "source": [
    "mu, sigma = 150, 50 # média e desvio padrão\n",
    "\n",
    "# gerando 100 variáveis entre 0 e 2\n",
    "X = np.random.normal(mu, sigma, size=(100,1)) \n",
    "\n",
    "print (X[:10])"
   ]
  },
  {
   "cell_type": "markdown",
   "id": "48eab1b3-375a-47f1-b8c8-e63961c3f9c1",
   "metadata": {},
   "source": [
    "Associaremos um rótulo a cada entrada x com base em uma função linear acrescida de uma pequena aleatoriedade."
   ]
  },
  {
   "cell_type": "code",
   "execution_count": 4,
   "id": "0b5517ce-8680-4fb4-8c94-334dda806bf7",
   "metadata": {},
   "outputs": [],
   "source": [
    "mu_2, sigma_2 = 0, 10\n",
    "\n",
    "y = 25 + 2 * X + np.random.normal(mu_2, sigma_2, size=(100,1))"
   ]
  },
  {
   "cell_type": "markdown",
   "id": "3dee2dc7-9712-4321-8607-dcd87630c2bd",
   "metadata": {},
   "source": [
    "### Conjunto de Dados"
   ]
  },
  {
   "cell_type": "code",
   "execution_count": 5,
   "id": "d61228e4-5086-4bf0-b491-2a21cef16fa7",
   "metadata": {},
   "outputs": [
    {
     "data": {
      "text/html": [
       "<div>\n",
       "<style scoped>\n",
       "    .dataframe tbody tr th:only-of-type {\n",
       "        vertical-align: middle;\n",
       "    }\n",
       "\n",
       "    .dataframe tbody tr th {\n",
       "        vertical-align: top;\n",
       "    }\n",
       "\n",
       "    .dataframe thead th {\n",
       "        text-align: right;\n",
       "    }\n",
       "</style>\n",
       "<table border=\"1\" class=\"dataframe\">\n",
       "  <thead>\n",
       "    <tr style=\"text-align: right;\">\n",
       "      <th></th>\n",
       "      <th>Área</th>\n",
       "      <th>Preço (1000's)</th>\n",
       "    </tr>\n",
       "  </thead>\n",
       "  <tbody>\n",
       "    <tr>\n",
       "      <th>0</th>\n",
       "      <td>238.20</td>\n",
       "      <td>520.24</td>\n",
       "    </tr>\n",
       "    <tr>\n",
       "      <th>1</th>\n",
       "      <td>170.01</td>\n",
       "      <td>351.54</td>\n",
       "    </tr>\n",
       "    <tr>\n",
       "      <th>2</th>\n",
       "      <td>198.94</td>\n",
       "      <td>410.17</td>\n",
       "    </tr>\n",
       "    <tr>\n",
       "      <th>3</th>\n",
       "      <td>262.04</td>\n",
       "      <td>558.78</td>\n",
       "    </tr>\n",
       "    <tr>\n",
       "      <th>4</th>\n",
       "      <td>243.38</td>\n",
       "      <td>500.02</td>\n",
       "    </tr>\n",
       "    <tr>\n",
       "      <th>...</th>\n",
       "      <td>...</td>\n",
       "      <td>...</td>\n",
       "    </tr>\n",
       "    <tr>\n",
       "      <th>95</th>\n",
       "      <td>185.33</td>\n",
       "      <td>393.94</td>\n",
       "    </tr>\n",
       "    <tr>\n",
       "      <th>96</th>\n",
       "      <td>150.53</td>\n",
       "      <td>333.77</td>\n",
       "    </tr>\n",
       "    <tr>\n",
       "      <th>97</th>\n",
       "      <td>239.29</td>\n",
       "      <td>511.82</td>\n",
       "    </tr>\n",
       "    <tr>\n",
       "      <th>98</th>\n",
       "      <td>156.35</td>\n",
       "      <td>359.32</td>\n",
       "    </tr>\n",
       "    <tr>\n",
       "      <th>99</th>\n",
       "      <td>170.10</td>\n",
       "      <td>378.56</td>\n",
       "    </tr>\n",
       "  </tbody>\n",
       "</table>\n",
       "<p>100 rows × 2 columns</p>\n",
       "</div>"
      ],
      "text/plain": [
       "      Área  Preço (1000's)\n",
       "0   238.20          520.24\n",
       "1   170.01          351.54\n",
       "2   198.94          410.17\n",
       "3   262.04          558.78\n",
       "4   243.38          500.02\n",
       "..     ...             ...\n",
       "95  185.33          393.94\n",
       "96  150.53          333.77\n",
       "97  239.29          511.82\n",
       "98  156.35          359.32\n",
       "99  170.10          378.56\n",
       "\n",
       "[100 rows x 2 columns]"
      ]
     },
     "execution_count": 5,
     "metadata": {},
     "output_type": "execute_result"
    }
   ],
   "source": [
    "import pandas as pd\n",
    "pd.DataFrame(np.concatenate((X,y), axis=1), columns = [\"Área\", \"Preço (1000's)\"]).round(2)"
   ]
  },
  {
   "cell_type": "markdown",
   "id": "f864426f",
   "metadata": {},
   "source": [
    "# Gráfico de Dispersão\n",
    "\n",
    "Plotando os dados"
   ]
  },
  {
   "cell_type": "code",
   "execution_count": 6,
   "id": "9ffc3e49-18ad-40b5-8095-297cd8037dc2",
   "metadata": {},
   "outputs": [
    {
     "data": {
      "text/plain": [
       "Text(0, 0.5, 'Preço em (1000 R$)')"
      ]
     },
     "execution_count": 6,
     "metadata": {},
     "output_type": "execute_result"
    },
    {
     "data": {
      "image/png": "[encoded data removed]",
      "text/plain": [
       "<Figure size 640x480 with 1 Axes>"
      ]
     },
     "metadata": {},
     "output_type": "display_data"
    }
   ],
   "source": [
    "plt.plot(X, y, \"b.\")\n",
    "plt.xlabel('Área construída (m^2)')\n",
    "plt.ylabel('Preço em (1000 R$)')"
   ]
  },
  {
   "cell_type": "markdown",
   "id": "71e3de35-2397-49c6-89f0-da07e15c4902",
   "metadata": {},
   "source": [
    "### Interpretação Estatística"
   ]
  },
  {
   "cell_type": "markdown",
   "id": "a03e9927-40c3-4dad-b4ef-c80cf3b895be",
   "metadata": {},
   "source": [
    "**Ideia central**: É impossível obter uma reta que passe por todos os pontos, porém podemos perceber um relacionamento linear.\n",
    "\n",
    "Existe uma indicação de que os pontos estariam dispostos aleatoriamente em volta de uma reta. \n",
    "\n",
    "Assim, seria razoável assumir que a média da variável aleatória $y$ está relacionada à variável explanatória $x$ por um relacionamento linear\n",
    "\n",
    "$$E(y│x)=μ_{y|x}= b +w x$$\n",
    "\n",
    "- $b$ é o intercepto da equação\n",
    "- $w$ é o coeficiente angular. \n",
    "\n",
    "\n",
    "**Interpretação**: Embora a média de y seja uma função linear de $x$, um valor observado qualquer $y^{(i)}$ não cai necessariamente precisamente na reta. \n",
    "\n",
    "$$y^{(i)}=b+wx^{(i)} + \\epsilon$$\n",
    "\n",
    "Assim, precisamos estimar $b$ e $w$ de modo a obter o modelo menos custoso. \n"
   ]
  },
  {
   "cell_type": "markdown",
   "id": "6a0424dd-37ec-4688-8750-cc039cbfbecd",
   "metadata": {},
   "source": [
    "### Erro Médio Quadrático\n",
    "\n",
    "Fazemos isso minimizando a função custo associada ao erro médio quadrático.\n",
    "\n",
    "$$\\min_{w,b}⁡ J(w,b)= \\frac{1}{n} \\sum_{i=1}^n [( wx^{(i)}+b) - y^{(i)}]^2$$\n"
   ]
  },
  {
   "cell_type": "markdown",
   "id": "8bf801bd",
   "metadata": {},
   "source": [
    "\n",
    "Como visto em sala de aula, na prática, é comum multiplicar o denominador por $2$ de modo que a função fica:\n",
    "\n",
    "$$\\min_{w,b}⁡ J(w,b)= \\frac{1}{2n} \\sum_{i=1}^n [( wx^{(i)}+b) - y^{(i)}]^2$$\n",
    "\n",
    "\n",
    "Isto é feito apenas para facilitar a resolução do sistema de derivadas parciais. **No entanto, os resultados dos parâmetros não serão alterados!**"
   ]
  },
  {
   "cell_type": "markdown",
   "id": "dee24ad3",
   "metadata": {},
   "source": [
    "Vamos criar uma função que calcula o custo total (desvio quadrático médio) utilizando o artifício explicado acima."
   ]
  },
  {
   "cell_type": "code",
   "execution_count": 7,
   "id": "cfd424bf-a7d3-4613-a597-5f0528504805",
   "metadata": {},
   "outputs": [],
   "source": [
    "def custo_total (x, y, w, b):\n",
    "    '''\n",
    "    x é um vetor de n observações;\n",
    "    y é um verot de n observações\n",
    "    w é o coeficiente angular da reta\n",
    "    b é o intercepto\n",
    "    '''\n",
    "    \n",
    "    n = x.shape[0] \n",
    "    custo = 0\n",
    "    for i in range(n):\n",
    "        f_wb = w * x[i] + b\n",
    "        custo = custo + (f_wb - y[i])**2 \n",
    "    J = 1 / (2 * n) * custo\n",
    "    return J"
   ]
  },
  {
   "cell_type": "markdown",
   "id": "bf7faed6",
   "metadata": {},
   "source": [
    "### Aplicando a função custo\n",
    "\n",
    " Vamos calcular o custo de com w = 4 e b = 10\n"
   ]
  },
  {
   "cell_type": "code",
   "execution_count": 8,
   "id": "12bf21ef-fb0b-4245-952a-251d0348b8a0",
   "metadata": {},
   "outputs": [
    {
     "data": {
      "text/plain": [
       "array([47112.75])"
      ]
     },
     "execution_count": 8,
     "metadata": {},
     "output_type": "execute_result"
    }
   ],
   "source": [
    "custo_total (X,y, w = 4, b = 10).round(2)"
   ]
  },
  {
   "cell_type": "markdown",
   "id": "7050db1e",
   "metadata": {},
   "source": [
    "## Como encontrar as melhores estimativas de $w$ e $b$?"
   ]
  },
  {
   "cell_type": "markdown",
   "id": "65d53d6a-045d-465e-a433-97b7cf20e5b1",
   "metadata": {},
   "source": [
    "Sabemos que a nossa função custo é convexa em relação aos parâmetros!\n",
    "\n",
    "**Estratégias Possíveis**:\n",
    "\n",
    "1. Buscar a solução fechada (exata)\n",
    "\n",
    "- A função pode ser minimizada com o sistema de derivadas parciais igualadas a zero\n",
    "\n",
    "2. Gradiente descendente"
   ]
  },
  {
   "cell_type": "markdown",
   "id": "c9898f16",
   "metadata": {},
   "source": [
    "### Solução Fechada\n",
    "\n",
    "Estamos em um problema de otimização não linear sem restrições. \n",
    "\n",
    "Além disso, sabe-se que a função custo é **convexa**. Ou seja, qualquer mínimo local será também um mínimo global.\n",
    "\n",
    "Assim, podemos minimizar $J(w,b)$ usando as condições de primeira ordem de otimização.\n",
    "\n",
    "Escolheremos as estimativas de parâmetros que satisfaçam:\n",
    "\n",
    "$$\\frac{\\partial J}{\\partial b} = 0$$\n",
    "\n",
    "$$\\frac{\\partial J}{\\partial w} = 0$$\n"
   ]
  },
  {
   "cell_type": "markdown",
   "id": "22844e19-de14-41fb-9f82-3d5d1f4b1517",
   "metadata": {},
   "source": [
    "## Método dos mínimos quadrados ordinários\n",
    "\n",
    "Como visto na sala de aula, a solução do sistema acima resulta nas fórmulas do método dos mínimos quadrados ordinários. Estas fórmulas estão presentes em diversos livros de estatística:\n",
    "\n",
    "\n",
    "$${\\hat{w}} = \\frac{\\sum_{i=1}^{n}{y^{(i)}x^{(i)}}-\\frac{\\left(\\sum_{i=1}^{n}y^{(i)}\\right)\\left(\\sum_{i=1}^{n}x^{(i)}\\right)}{n}}{\\sum_{i=1}^{n} {x^{(i)}}^{2} -\\frac{({\\sum_{i=1}^{n}{x^{(i)})}}^2}{n}} = \\frac{\\sum_{i=1}^{n}{(x^{(i)} - \\bar{x})(y^{(i)} - \\bar{y})}}{\\sum_{i=1}^{n}{(x^{(i)} - \\bar{x})^2}}$$\n",
    "\n",
    "\n",
    "$${\\hat{b}}=\\bar{y} - {\\hat{w}} \\bar{x}$$\n"
   ]
  },
  {
   "cell_type": "markdown",
   "id": "e3623e93-600c-440e-9845-2c8d7efbe411",
   "metadata": {},
   "source": [
    "Assim, obtém-se o modelo regressor $$\\hat{y}={\\hat{w}}x + \\hat{b}$$ que estima o valor médio do modelo de regressão. \n",
    "\n",
    "Cada observação satisfaz a relação $y^{(i)}={\\hat{b}}+{\\hat{w}}x+\\epsilon$, onde $\\epsilon=y^{(i)}-{\\hat{y}}^{(i)}$ é chamado de desvio ou resíduo."
   ]
  },
  {
   "cell_type": "code",
   "execution_count": 9,
   "id": "c486dffd",
   "metadata": {},
   "outputs": [
    {
     "name": "stdout",
     "output_type": "stream",
     "text": [
      "[[2.02293969]]\n",
      "[[22.31057784]]\n"
     ]
    }
   ],
   "source": [
    "n=X.shape[0]\n",
    "\n",
    "w_hat = (y.T @ X - (np.sum(y) * np.sum(X)) / n) / (X.T @ X - np.sum(X)**2/n)\n",
    "\n",
    "b_hat = np.mean(y) - w_hat * np.mean(X)\n",
    "\n",
    "print(w_hat)\n",
    "print(b_hat)"
   ]
  },
  {
   "cell_type": "code",
   "execution_count": 10,
   "id": "3d6dcbfe",
   "metadata": {},
   "outputs": [
    {
     "data": {
      "text/plain": [
       "array([[52.86]])"
      ]
     },
     "execution_count": 10,
     "metadata": {},
     "output_type": "execute_result"
    }
   ],
   "source": [
    "#Calculando o custo nas estimativas!\n",
    "\n",
    "custo_total (X,y, w_hat, b_hat).round(2)"
   ]
  },
  {
   "cell_type": "markdown",
   "id": "1c7b74c6",
   "metadata": {},
   "source": [
    "# Usando a biblioteca sklearn"
   ]
  },
  {
   "cell_type": "code",
   "execution_count": 11,
   "id": "2960c000",
   "metadata": {},
   "outputs": [
    {
     "data": {
      "text/plain": [
       "(array([[2.02293969]]), array([22.31057784]))"
      ]
     },
     "execution_count": 11,
     "metadata": {},
     "output_type": "execute_result"
    }
   ],
   "source": [
    "from sklearn.linear_model import LinearRegression\n",
    "\n",
    "lin_reg = LinearRegression()\n",
    "lin_reg.fit(X, y)\n",
    "lin_reg.coef_, lin_reg.intercept_"
   ]
  },
  {
   "cell_type": "markdown",
   "id": "8042ef6e",
   "metadata": {},
   "source": [
    "Perceba que obtivemos os mesmos valores!"
   ]
  },
  {
   "cell_type": "markdown",
   "id": "e68ce1c7",
   "metadata": {},
   "source": [
    "## Gerando exemplos de teste\n",
    "\n",
    "Vamos usar a mesma metodologia acima para gerar novos dados (que não foram usados previamente no treinamento do modelo).\n",
    "\n",
    "Esses dados serão então, usados para realizar a previsão."
   ]
  },
  {
   "cell_type": "code",
   "execution_count": 12,
   "id": "eb85e9ab",
   "metadata": {},
   "outputs": [],
   "source": [
    "mu, sigma = 150, 50 # média e desvio padrão\n",
    "mu_2, sigma_2 = 0, 10\n",
    "X_teste = np.random.normal(mu, sigma, size=(30,1))\n",
    "y_teste = 25 + 2 * X_teste + np.random.normal(mu_2, sigma_2, size=(30,1))"
   ]
  },
  {
   "cell_type": "markdown",
   "id": "9c0281dd",
   "metadata": {},
   "source": [
    "Usando os parâmetros estimados acima em lin_reg, podemos prever os preços "
   ]
  },
  {
   "cell_type": "code",
   "execution_count": 13,
   "id": "5050e6e8",
   "metadata": {},
   "outputs": [
    {
     "data": {
      "text/plain": [
       "array([[288.40990127],\n",
       "       [301.53904893],\n",
       "       [436.97878277],\n",
       "       [392.02948116],\n",
       "       [390.49890429],\n",
       "       [162.20130317],\n",
       "       [323.29101673],\n",
       "       [251.10193004],\n",
       "       [354.06505989],\n",
       "       [315.82391493],\n",
       "       [417.81338261],\n",
       "       [357.83719669],\n",
       "       [405.28623292],\n",
       "       [278.57464578],\n",
       "       [230.2236402 ],\n",
       "       [284.27624096],\n",
       "       [324.02996732],\n",
       "       [364.10158551],\n",
       "       [554.2738179 ],\n",
       "       [321.47734739],\n",
       "       [229.06057686],\n",
       "       [290.7565176 ],\n",
       "       [278.86019607],\n",
       "       [374.45192994],\n",
       "       [169.90455937],\n",
       "       [332.15029079],\n",
       "       [341.58169519],\n",
       "       [349.23594248],\n",
       "       [265.33481178],\n",
       "       [301.68646538]])"
      ]
     },
     "execution_count": 13,
     "metadata": {},
     "output_type": "execute_result"
    }
   ],
   "source": [
    "lin_reg.predict(X_teste)"
   ]
  },
  {
   "cell_type": "markdown",
   "id": "cfc327fa",
   "metadata": {},
   "source": [
    "**O custo pode ser calculado com nossa função custo total**"
   ]
  },
  {
   "cell_type": "code",
   "execution_count": 14,
   "id": "9664e4eb",
   "metadata": {},
   "outputs": [
    {
     "name": "stdout",
     "output_type": "stream",
     "text": [
      "[[49.61406678]]\n",
      "[[49.61406678]]\n"
     ]
    }
   ],
   "source": [
    "# Usando os parâmetros do sklearn \n",
    "print (custo_total (X_teste, y_teste, lin_reg.coef_, lin_reg.intercept_))\n",
    "\n",
    "# Usando os parâmetros da nossa fórmula da função fechada\n",
    "print (custo_total (X_teste, y_teste, w_hat, b_hat))"
   ]
  },
  {
   "cell_type": "markdown",
   "id": "8aeed21b",
   "metadata": {},
   "source": [
    "Também podemos calcular o custo com o sklearn. \n",
    "\n",
    "Nesse caso, o valor quadrático é multiplicado por $\\frac{1}{n}$ ao invés de $\\frac{1}{2n}$ "
   ]
  },
  {
   "cell_type": "code",
   "execution_count": 37,
   "id": "b83a2cb4",
   "metadata": {},
   "outputs": [],
   "source": [
    "from sklearn.metrics import mean_squared_error, mean_absolute_error"
   ]
  },
  {
   "cell_type": "code",
   "execution_count": 16,
   "id": "5fd6bfac",
   "metadata": {},
   "outputs": [
    {
     "data": {
      "text/plain": [
       "99.22813355715259"
      ]
     },
     "execution_count": 16,
     "metadata": {},
     "output_type": "execute_result"
    }
   ],
   "source": [
    "mean_squared_error(lin_reg.predict(X_teste), y_teste)"
   ]
  },
  {
   "cell_type": "code",
   "execution_count": 17,
   "id": "952ded38",
   "metadata": {},
   "outputs": [
    {
     "data": {
      "text/plain": [
       "49.614066778576294"
      ]
     },
     "execution_count": 17,
     "metadata": {},
     "output_type": "execute_result"
    }
   ],
   "source": [
    "# Dividindo o valor acima por 2, chegamos  aos nossos valores da função custo_total\n",
    "\n",
    "mean_squared_error(lin_reg.predict(X_teste), y_teste)/2"
   ]
  },
  {
   "cell_type": "markdown",
   "id": "f203c494",
   "metadata": {},
   "source": [
    "------------------------------------------------------------------------------------------------------------\n",
    "\n",
    "------------------------------------------------------------------------------------------------------------\n",
    "\n",
    "------------------------------------------------------------------------------------------------------------\n",
    "\n",
    "------------------------------------------------------------------------------------------------------------"
   ]
  },
  {
   "cell_type": "markdown",
   "id": "647e1442-6c9b-4029-9bc1-5899c3aacad5",
   "metadata": {},
   "source": [
    "## Regressão linear com vários atributos"
   ]
  },
  {
   "cell_type": "markdown",
   "id": "996d2fbc-740f-4f43-8820-4d256fde2dfc",
   "metadata": {},
   "source": [
    "No caso genérico, uma observação, então, é dada por um vetor de $d$ atributos $\\mathbf{x}_i \\in \\mathbb{R}^p$. \n",
    "\n",
    "Considerando o relacionamento entre as variáveis de entrada $\\mathbf{x}_i \\in \\mathbb{R}^p$ e o valor de saída $y\\in\\mathbb{R}$ linear, temos uma **regressão linear**:\n",
    "\n",
    "$$y=\\mathbf{w}^{T}\\mathbf{x} + b + \\epsilon$$\n"
   ]
  },
  {
   "cell_type": "markdown",
   "id": "0f98d69d-fd34-429b-a8c8-b2f67c1f43f7",
   "metadata": {},
   "source": [
    "Onde:\n",
    "- $\\mathbf{w}^{T}=[w_1,\\ldots,\\ w_p]$ é um vetor de parâmetros, no qual $w_j$ é o coeficiente a variável independente $x_j$;\n",
    "- $b$ equivale ao intercepto do modelo de regressão linear simples\n",
    "- $\\epsilon$ é um erro não redutível. \n",
    "\n",
    "O coeficiente $w_j$ indica como a variável dependente $y$ muda em média quando $x_j$ é adicionado em uma unidade e as demais variáveis independentes permanecem constantes. \n",
    "\n",
    "Esses parâmetros são valores que controlam o comportamento do sistema, muitas vezes chamados de pesos ou coeficientes da regressão."
   ]
  },
  {
   "cell_type": "markdown",
   "id": "8ed5688a-bf68-4f6f-ac66-afe9a2c8495b",
   "metadata": {},
   "source": [
    "### Adicionando o intercepto"
   ]
  },
  {
   "cell_type": "markdown",
   "id": "105f9e0e",
   "metadata": {},
   "source": [
    "## Um problema de previsão de demanda com várias variáveis independentes "
   ]
  },
  {
   "cell_type": "markdown",
   "id": "43e64a05",
   "metadata": {},
   "source": [
    "Vamos fazer um exercício que envolve múltiplas variáveis independentes. O problema envolve a brasileira por um produto vendido no exterior. Os atributos são:\n",
    "\n",
    "- Taxa de câmbio\n",
    "- Preço de venda no site\n",
    "- Gasto da empresa americana com marketing no Brasil\n",
    "\n",
    "O conjunto de dados será gerado aleatoriamente abaixo."
   ]
  },
  {
   "cell_type": "code",
   "execution_count": 18,
   "id": "d463a787",
   "metadata": {},
   "outputs": [],
   "source": [
    "# Gerar dados aleatórios\n",
    "n_amostras = 1000\n",
    "taxa_cambio = np.random.normal(5, 0.5, n_amostras)  # Taxa de câmbio flutua em torno de 5 BRL/USD\n",
    "preco_produto_usd = np.random.uniform(20, 100, n_amostras)  # Preço do produto varia de $20 a $100\n",
    "gasto_marketing_usd = np.random.uniform(1000, 5000, n_amostras)  # Gastos com marketing em dólares\n"
   ]
  },
  {
   "cell_type": "markdown",
   "id": "78b13f68",
   "metadata": {},
   "source": [
    "A relação entre a demanda e as variáveis independentes será modelada abaixo (acrescentando um erro aleatório):"
   ]
  },
  {
   "cell_type": "code",
   "execution_count": 19,
   "id": "1c375617",
   "metadata": {},
   "outputs": [],
   "source": [
    "demanda_brasil = (\n",
    "    10000\n",
    "    - 500 * taxa_cambio  # Impacto negativo de uma taxa de câmbio mais alta\n",
    "    + 0.3 * (6000 - preco_produto_usd)  # Preço mais baixo pode impulsionar a demanda\n",
    "    + 0.1 * gasto_marketing_usd  # Mais marketing, mais demanda\n",
    "    + np.random.normal(0, 300, n_amostras)  # Ruído aleatório\n",
    ")"
   ]
  },
  {
   "cell_type": "code",
   "execution_count": 20,
   "id": "656cea47",
   "metadata": {},
   "outputs": [
    {
     "data": {
      "text/html": [
       "<div>\n",
       "<style scoped>\n",
       "    .dataframe tbody tr th:only-of-type {\n",
       "        vertical-align: middle;\n",
       "    }\n",
       "\n",
       "    .dataframe tbody tr th {\n",
       "        vertical-align: top;\n",
       "    }\n",
       "\n",
       "    .dataframe thead th {\n",
       "        text-align: right;\n",
       "    }\n",
       "</style>\n",
       "<table border=\"1\" class=\"dataframe\">\n",
       "  <thead>\n",
       "    <tr style=\"text-align: right;\">\n",
       "      <th></th>\n",
       "      <th>Taxa de Câmbio (USD para BRL)</th>\n",
       "      <th>Preço do Produto em USD</th>\n",
       "      <th>Gasto com Marketing em USD</th>\n",
       "      <th>Demanda no Brasil (unidades)</th>\n",
       "    </tr>\n",
       "  </thead>\n",
       "  <tbody>\n",
       "    <tr>\n",
       "      <th>0</th>\n",
       "      <td>4.405570</td>\n",
       "      <td>35.801529</td>\n",
       "      <td>1275.111391</td>\n",
       "      <td>9651.893152</td>\n",
       "    </tr>\n",
       "    <tr>\n",
       "      <th>1</th>\n",
       "      <td>4.746592</td>\n",
       "      <td>62.265210</td>\n",
       "      <td>1043.111054</td>\n",
       "      <td>9343.342823</td>\n",
       "    </tr>\n",
       "    <tr>\n",
       "      <th>2</th>\n",
       "      <td>4.701843</td>\n",
       "      <td>73.735189</td>\n",
       "      <td>4988.185377</td>\n",
       "      <td>10128.950266</td>\n",
       "    </tr>\n",
       "    <tr>\n",
       "      <th>3</th>\n",
       "      <td>4.973716</td>\n",
       "      <td>57.625703</td>\n",
       "      <td>1882.022313</td>\n",
       "      <td>9474.483022</td>\n",
       "    </tr>\n",
       "    <tr>\n",
       "      <th>4</th>\n",
       "      <td>4.031860</td>\n",
       "      <td>96.775651</td>\n",
       "      <td>2250.250994</td>\n",
       "      <td>9927.979885</td>\n",
       "    </tr>\n",
       "    <tr>\n",
       "      <th>...</th>\n",
       "      <td>...</td>\n",
       "      <td>...</td>\n",
       "      <td>...</td>\n",
       "      <td>...</td>\n",
       "    </tr>\n",
       "    <tr>\n",
       "      <th>995</th>\n",
       "      <td>4.368414</td>\n",
       "      <td>44.058152</td>\n",
       "      <td>2382.037194</td>\n",
       "      <td>9992.369685</td>\n",
       "    </tr>\n",
       "    <tr>\n",
       "      <th>996</th>\n",
       "      <td>3.611320</td>\n",
       "      <td>79.065981</td>\n",
       "      <td>4324.752634</td>\n",
       "      <td>10204.487975</td>\n",
       "    </tr>\n",
       "    <tr>\n",
       "      <th>997</th>\n",
       "      <td>5.575867</td>\n",
       "      <td>40.747321</td>\n",
       "      <td>3215.583738</td>\n",
       "      <td>9097.325783</td>\n",
       "    </tr>\n",
       "    <tr>\n",
       "      <th>998</th>\n",
       "      <td>4.705386</td>\n",
       "      <td>97.121631</td>\n",
       "      <td>4104.743188</td>\n",
       "      <td>9827.192578</td>\n",
       "    </tr>\n",
       "    <tr>\n",
       "      <th>999</th>\n",
       "      <td>4.775767</td>\n",
       "      <td>72.955899</td>\n",
       "      <td>4111.133066</td>\n",
       "      <td>10325.643258</td>\n",
       "    </tr>\n",
       "  </tbody>\n",
       "</table>\n",
       "<p>1000 rows × 4 columns</p>\n",
       "</div>"
      ],
      "text/plain": [
       "     Taxa de Câmbio (USD para BRL)  Preço do Produto em USD   \n",
       "0                         4.405570                35.801529  \\\n",
       "1                         4.746592                62.265210   \n",
       "2                         4.701843                73.735189   \n",
       "3                         4.973716                57.625703   \n",
       "4                         4.031860                96.775651   \n",
       "..                             ...                      ...   \n",
       "995                       4.368414                44.058152   \n",
       "996                       3.611320                79.065981   \n",
       "997                       5.575867                40.747321   \n",
       "998                       4.705386                97.121631   \n",
       "999                       4.775767                72.955899   \n",
       "\n",
       "     Gasto com Marketing em USD  Demanda no Brasil (unidades)  \n",
       "0                   1275.111391                   9651.893152  \n",
       "1                   1043.111054                   9343.342823  \n",
       "2                   4988.185377                  10128.950266  \n",
       "3                   1882.022313                   9474.483022  \n",
       "4                   2250.250994                   9927.979885  \n",
       "..                          ...                           ...  \n",
       "995                 2382.037194                   9992.369685  \n",
       "996                 4324.752634                  10204.487975  \n",
       "997                 3215.583738                   9097.325783  \n",
       "998                 4104.743188                   9827.192578  \n",
       "999                 4111.133066                  10325.643258  \n",
       "\n",
       "[1000 rows x 4 columns]"
      ]
     },
     "execution_count": 20,
     "metadata": {},
     "output_type": "execute_result"
    }
   ],
   "source": [
    "# Criando o DataFrame\n",
    "\n",
    "df = pd.DataFrame({\n",
    "    'Taxa de Câmbio (USD para BRL)': taxa_cambio,\n",
    "    'Preço do Produto em USD': preco_produto_usd,\n",
    "    'Gasto com Marketing em USD': gasto_marketing_usd,\n",
    "    'Demanda no Brasil (unidades)': demanda_brasil\n",
    "})\n",
    "\n",
    "df"
   ]
  },
  {
   "cell_type": "code",
   "execution_count": 21,
   "id": "54239a03",
   "metadata": {},
   "outputs": [],
   "source": [
    "X = df[['Taxa de Câmbio (USD para BRL)', 'Preço do Produto em USD', 'Gasto com Marketing em USD']]\n",
    "y = df['Demanda no Brasil (unidades)']"
   ]
  },
  {
   "cell_type": "code",
   "execution_count": 25,
   "id": "1a4180a3",
   "metadata": {},
   "outputs": [
    {
     "name": "stdout",
     "output_type": "stream",
     "text": [
      "O tamanho da matris X é: (1000, 3)\n",
      "O tamanho do vetor y é: (1000,)\n"
     ]
    }
   ],
   "source": [
    "print(f\"O tamanho da matriz X é: {X.shape}\")\n",
    "\n",
    "print(f\"O tamanho do vetor y é: {y.shape}\")"
   ]
  },
  {
   "cell_type": "markdown",
   "id": "8457c199",
   "metadata": {},
   "source": [
    "### Dividindo o conjunto de dados para treinamento e teste\n",
    "\n",
    "Uma forma prática de usar o conjunto de dados que possuímos consiste em dividi-lo em treinamento e teste.\n",
    "\n",
    "Isse procedimento é chamado de **Holdout** e já está pré-programado na biblioteca $sklean$.\n",
    "\n",
    "Primeiro, ajustamos a regressão usando só os dados de treinamento.\n",
    "\n",
    "Em seguida, usamos os dados de teste para realizar a previsão e testar se \"acertamos\" a demanda."
   ]
  },
  {
   "cell_type": "code",
   "execution_count": 27,
   "id": "8daf82a3",
   "metadata": {},
   "outputs": [],
   "source": [
    "from sklearn.model_selection import train_test_split"
   ]
  },
  {
   "cell_type": "code",
   "execution_count": 32,
   "id": "60563b29",
   "metadata": {},
   "outputs": [
    {
     "name": "stdout",
     "output_type": "stream",
     "text": [
      "O tamanho da matriz X_treino é: (800, 3)\n",
      "O tamanho do vetor y_treino é: (800,)\n",
      "-------------------------------\n",
      "O tamanho da matriz X_teste é: (200, 3)\n",
      "O tamanho do vetor y_teste é: (200,)\n"
     ]
    }
   ],
   "source": [
    "X_treino, X_teste, y_treino, y_teste = train_test_split(X, y, test_size=0.2, random_state=0)\n",
    "\n",
    "\n",
    "\n",
    "print(f\"O tamanho da matriz X_treino é: {X_treino.shape}\")\n",
    "print(f\"O tamanho do vetor y_treino é: {y_treino.shape}\")\n",
    "\n",
    "print(\"-------------------------------\")\n",
    "print(f\"O tamanho da matriz X_teste é: {X_teste.shape}\")\n",
    "print(f\"O tamanho do vetor y_teste é: {y_teste.shape}\")"
   ]
  },
  {
   "cell_type": "code",
   "execution_count": 33,
   "id": "93a74173",
   "metadata": {},
   "outputs": [
    {
     "name": "stdout",
     "output_type": "stream",
     "text": [
      "w = [-4.82085253e+02 -6.17916131e-01  9.38707640e-02]\n",
      "b = 11735.46231716599\n"
     ]
    }
   ],
   "source": [
    "# Treinamento do modelode regressão linear\n",
    "\n",
    "modelo = LinearRegression()\n",
    "modelo.fit(X_treino, y_treino)\n",
    "\n",
    "\n",
    "print(f\"w = {modelo.coef_}\")\n",
    "print(f\"b = {modelo.intercept_}\")"
   ]
  },
  {
   "cell_type": "code",
   "execution_count": 38,
   "id": "0291fdb3",
   "metadata": {},
   "outputs": [
    {
     "name": "stdout",
     "output_type": "stream",
     "text": [
      "Erro Quadrático Médio: 93309.82353643823\n",
      "Erro Absoluto Médio: 233.77649961085785\n"
     ]
    }
   ],
   "source": [
    "# Previsão da demanda no conjunto de teste\n",
    "y_pred = modelo.predict(X_teste)\n",
    "\n",
    "# Calcular o erro quadrático médio (EQM)\n",
    "MSE = mean_squared_error(y_teste, y_pred)\n",
    "print('Erro Quadrático Médio:', MSE)\n",
    "\n",
    "print('Erro Absoluto Médio:', mean_absolute_error(y_teste, y_pred))"
   ]
  },
  {
   "cell_type": "markdown",
   "id": "ed3e5d8a",
   "metadata": {},
   "source": [
    "Perceba que o método $modelo.predict()$ está apenas aplicando o produto interno $\\vec{w}\\cdot\\vec{x}$ e somando $b$\n",
    "\n",
    "Veja:"
   ]
  },
  {
   "cell_type": "code",
   "execution_count": 39,
   "id": "c55984d2",
   "metadata": {},
   "outputs": [
    {
     "name": "stdout",
     "output_type": "stream",
     "text": [
      "Erro Quadrático Médio: 93309.82353643823\n",
      "Erro Absoluto Médio: 233.77649961085785\n"
     ]
    }
   ],
   "source": [
    "# Previsão da demanda no conjunto de teste\n",
    "y_pred = modelo.coef_.dot(X_teste.T) + modelo.intercept_\n",
    "\n",
    "# Calcular o erro quadrático médio (EQM)\n",
    "MSE = mean_squared_error(y_teste, y_pred)\n",
    "print('Erro Quadrático Médio:', MSE)\n",
    "print('Erro Absoluto Médio:', mean_absolute_error(y_teste, y_pred))"
   ]
  }
 ],
 "metadata": {
  "kernelspec": {
   "display_name": "Python 3.9.7 ('base')",
   "language": "python",
   "name": "python3"
  },
  "language_info": {
   "codemirror_mode": {
    "name": "ipython",
    "version": 3
   },
   "file_extension": ".py",
   "mimetype": "text/x-python",
   "name": "python",
   "nbconvert_exporter": "python",
   "pygments_lexer": "ipython3",
   "version": "3.9.7"
  },
  "vscode": {
   "interpreter": {
    "hash": "e4cce46d6be9934fbd27f9ca0432556941ea5bdf741d4f4d64c6cd7f8dfa8fba"
   }
  }
 },
 "nbformat": 4,
 "nbformat_minor": 5
}
