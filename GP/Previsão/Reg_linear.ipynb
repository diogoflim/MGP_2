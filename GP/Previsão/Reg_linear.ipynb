{
 "cells": [
  {
   "cell_type": "markdown",
   "id": "312233b5",
   "metadata": {},
   "source": [
    "[![Open In Colab](https://colab.research.google.com/assets/colab-badge.svg)](https://colab.research.google.com/github/diogoflim/MGP/blob/main/GP/Previsão/Reg_linear.ipynb)\n"
   ]
  },
  {
   "cell_type": "markdown",
   "id": "c168172b",
   "metadata": {},
   "source": [
    "# Modelagem e Gestão de Processos\n",
    "\n",
    "\n",
    "**Prof. Diogo Ferreira de Lima Silva (TEP-UFF)**\n"
   ]
  },
  {
   "cell_type": "markdown",
   "id": "3ec05b30-81b8-43f8-a226-cf3638a317d8",
   "metadata": {},
   "source": [
    "## Bibliotecas"
   ]
  },
  {
   "cell_type": "code",
   "execution_count": null,
   "id": "e7565234-7433-4403-9590-bf926ed94b9f",
   "metadata": {},
   "outputs": [],
   "source": [
    "import numpy as np\n",
    "%matplotlib inline\n",
    "import matplotlib.pyplot as plt"
   ]
  },
  {
   "cell_type": "markdown",
   "id": "9615b5a6-2c48-45be-b506-6c4ad74e9422",
   "metadata": {},
   "source": [
    "# Regressão"
   ]
  },
  {
   "cell_type": "markdown",
   "id": "8392d34f-f652-4d66-9837-6cc37f8efa89",
   "metadata": {},
   "source": [
    "Em tarefas de regressão, o programa de computador é solicitado a aprender uma função que gera um rótulo com valor numérico (ex: um número real) dado alguma entrada. \n",
    "\n",
    "Para resolver essa tarefa, o algoritmo de aprendizagem precisa gerar uma função:\n",
    "\n",
    "$$\\hat{y} = f:\\mathbb{R}^n→\\mathbb{R}$$ "
   ]
  },
  {
   "cell_type": "markdown",
   "id": "337075ec-b43b-4c23-99bc-09e1c88186d7",
   "metadata": {},
   "source": [
    "## Regressão Linear"
   ]
  },
  {
   "cell_type": "markdown",
   "id": "65610309-a072-4f9d-b6e8-483b39b5c099",
   "metadata": {},
   "source": [
    "Em um modelo de regressão linear, a função aprendida $f$ apresenta linearidade em termos dos parâmetros.\n",
    "\n",
    "Exemplo:\n",
    "\n",
    "$$f_{\\vec{w},b}(\\vec{x})=w_1x_1+w_2x_2+...+w_nx_n + b$$\n",
    "\n",
    "$\\vec{w}$ e $b$ são os parâmetros (coeficientes, pesos) que desejamos aprender\n"
   ]
  },
  {
   "cell_type": "markdown",
   "id": "b52dc91b-11a0-49a0-a33a-1bc3074dc84d",
   "metadata": {},
   "source": [
    "## Regressão Linear Simples"
   ]
  },
  {
   "cell_type": "markdown",
   "id": "213ad97f-6a90-49a0-8d0b-796a1cfb8e51",
   "metadata": {},
   "source": [
    "Para entender a intuição de modelos de regressão linear, iniciaremos com o caso mais simples, quando há apenas um atributo x. \n",
    "\n",
    "**Esse modelo é chamado de regressão linear simples.**\n",
    "\n",
    "Exemplos:\n",
    "\n",
    "- entender o relacionamento entre os preços de títulos financeiros e o valor do dólar;  \n",
    "- prever o consumo de energia elétrica com base no tamanho da fábrica."
   ]
  },
  {
   "cell_type": "markdown",
   "id": "fd78fc4c",
   "metadata": {},
   "source": [
    "### Reproducibilidade\n",
    "\n",
    "Os serão gerados nessa aula aleatoriamente. Porém, sabemos que no computador essa geração é **pseudoaleatória**.\n",
    "\n",
    "Podemos travar a semente aleatória e, assim, garantiremos a reprodutibilidade dos experimentos."
   ]
  },
  {
   "cell_type": "code",
   "execution_count": null,
   "id": "73278cef",
   "metadata": {},
   "outputs": [],
   "source": [
    "np.random.seed(0)  "
   ]
  },
  {
   "cell_type": "code",
   "execution_count": null,
   "id": "5fbb9329-eb6c-4d77-a1a0-22c1eb47b20c",
   "metadata": {},
   "outputs": [],
   "source": [
    "mu, sigma = 150, 50 # média e desvio padrão\n",
    "\n",
    "# gerando 100 variáveis entre 0 e 2\n",
    "X = np.random.normal(mu, sigma, size=(100,1)) \n",
    "\n",
    "print (X[:10])"
   ]
  },
  {
   "cell_type": "markdown",
   "id": "48eab1b3-375a-47f1-b8c8-e63961c3f9c1",
   "metadata": {},
   "source": [
    "Associaremos um rótulo a cada entrada x com base em uma função linear acrescida de uma pequena aleatoriedade."
   ]
  },
  {
   "cell_type": "code",
   "execution_count": null,
   "id": "0b5517ce-8680-4fb4-8c94-334dda806bf7",
   "metadata": {},
   "outputs": [],
   "source": [
    "mu_2, sigma_2 = 0, 20\n",
    "\n",
    "y = 25 + 2 * X + np.random.normal(mu_2, sigma_2, size=(100,1))"
   ]
  },
  {
   "cell_type": "markdown",
   "id": "3dee2dc7-9712-4321-8607-dcd87630c2bd",
   "metadata": {},
   "source": [
    "### Conjunto de Dados"
   ]
  },
  {
   "cell_type": "code",
   "execution_count": null,
   "id": "d61228e4-5086-4bf0-b491-2a21cef16fa7",
   "metadata": {},
   "outputs": [],
   "source": [
    "import pandas as pd\n",
    "df = pd.DataFrame(np.concatenate((X,y), axis=1), columns = [\"Área\", \"Preço (1000's)\"]).round(2)"
   ]
  },
  {
   "cell_type": "markdown",
   "id": "f864426f",
   "metadata": {},
   "source": [
    "# Gráfico de Dispersão\n",
    "\n",
    "Plotando os dados"
   ]
  },
  {
   "cell_type": "code",
   "execution_count": null,
   "id": "9ffc3e49-18ad-40b5-8095-297cd8037dc2",
   "metadata": {},
   "outputs": [],
   "source": [
    "plt.plot(X, y, \"b.\")\n",
    "plt.xlabel('Área construída (m^2)')\n",
    "plt.ylabel('Preço em (1000 R$)')"
   ]
  },
  {
   "cell_type": "code",
   "execution_count": null,
   "id": "54c435de",
   "metadata": {},
   "outputs": [],
   "source": [
    "df.corr()"
   ]
  },
  {
   "cell_type": "markdown",
   "id": "71e3de35-2397-49c6-89f0-da07e15c4902",
   "metadata": {},
   "source": [
    "### Interpretação Estatística"
   ]
  },
  {
   "cell_type": "markdown",
   "id": "a03e9927-40c3-4dad-b4ef-c80cf3b895be",
   "metadata": {},
   "source": [
    "**Ideia central**: É impossível obter uma reta que passe por todos os pontos, porém podemos perceber um relacionamento linear.\n",
    "\n",
    "Existe uma indicação de que os pontos estariam dispostos aleatoriamente em volta de uma reta. \n",
    "\n",
    "Assim, seria razoável assumir que a média da variável aleatória $y$ está relacionada à variável explanatória $x$ por um relacionamento linear\n",
    "\n",
    "$$E(y│x)=μ_{y|x}= b +w x$$\n",
    "\n",
    "- $b$ é o intercepto da equação\n",
    "- $w$ é o coeficiente angular. \n",
    "\n",
    "\n",
    "**Interpretação**: Embora a média de y seja uma função linear de $x$, um valor observado qualquer $y^{(i)}$ não cai necessariamente precisamente na reta. \n",
    "\n",
    "$$y^{(i)}=b+wx^{(i)} + \\epsilon$$\n",
    "\n",
    "Assim, precisamos estimar $b$ e $w$ de modo a obter o modelo menos custoso. \n"
   ]
  },
  {
   "cell_type": "markdown",
   "id": "6a0424dd-37ec-4688-8750-cc039cbfbecd",
   "metadata": {},
   "source": [
    "### Erro Médio Quadrático\n",
    "\n",
    "Fazemos isso minimizando a função custo associada ao erro médio quadrático.\n",
    "\n",
    "$$\\min_{w,b}⁡ J(w,b)= \\frac{1}{n} \\sum_{i=1}^n [( wx^{(i)}+b) - y^{(i)}]^2$$\n"
   ]
  },
  {
   "cell_type": "markdown",
   "id": "8bf801bd",
   "metadata": {},
   "source": [
    "\n",
    "Como visto em sala de aula, na prática, é comum multiplicar o denominador por $2$ de modo que a função fica:\n",
    "\n",
    "$$\\min_{w,b}⁡ J(w,b)= \\frac{1}{2n} \\sum_{i=1}^n [( wx^{(i)}+b) - y^{(i)}]^2$$\n",
    "\n",
    "\n",
    "Isto é feito apenas para facilitar a resolução do sistema de derivadas parciais. **No entanto, os resultados dos parâmetros não serão alterados!**"
   ]
  },
  {
   "cell_type": "markdown",
   "id": "dee24ad3",
   "metadata": {},
   "source": [
    "Vamos criar uma função que calcula o custo total (desvio quadrático médio) utilizando o artifício explicado acima."
   ]
  },
  {
   "cell_type": "code",
   "execution_count": null,
   "id": "cfd424bf-a7d3-4613-a597-5f0528504805",
   "metadata": {},
   "outputs": [],
   "source": [
    "def custo_total (x, y, w, b):\n",
    "    '''\n",
    "    x é um vetor de n observações;\n",
    "    y é um verot de n observações\n",
    "    w é o coeficiente angular da reta\n",
    "    b é o intercepto\n",
    "    '''\n",
    "    \n",
    "    n = x.shape[0] \n",
    "    custo = 0\n",
    "    for i in range(n):\n",
    "        f_wb = w * x[i] + b\n",
    "        custo = custo + (f_wb - y[i])**2 \n",
    "    J = 1 / (2 * n) * custo\n",
    "    return J"
   ]
  },
  {
   "cell_type": "markdown",
   "id": "bf7faed6",
   "metadata": {},
   "source": [
    "### Aplicando a função custo\n",
    "\n",
    " Vamos calcular o custo de com w = 4 e b = 10\n"
   ]
  },
  {
   "cell_type": "code",
   "execution_count": null,
   "id": "12bf21ef-fb0b-4245-952a-251d0348b8a0",
   "metadata": {},
   "outputs": [],
   "source": [
    "custo_total (X,y, w = 4, b = 10).round(2)"
   ]
  },
  {
   "cell_type": "markdown",
   "id": "7050db1e",
   "metadata": {},
   "source": [
    "## Como encontrar as melhores estimativas de $w$ e $b$?"
   ]
  },
  {
   "cell_type": "markdown",
   "id": "65d53d6a-045d-465e-a433-97b7cf20e5b1",
   "metadata": {},
   "source": [
    "Sabemos que a nossa função custo é convexa em relação aos parâmetros!\n",
    "\n",
    "**Estratégias Possíveis**:\n",
    "\n",
    "1. Buscar a solução fechada (exata)\n",
    "\n",
    "- A função pode ser minimizada com o sistema de derivadas parciais igualadas a zero\n",
    "\n",
    "2. Gradiente descendente"
   ]
  },
  {
   "cell_type": "markdown",
   "id": "c9898f16",
   "metadata": {},
   "source": [
    "### Solução Fechada\n",
    "\n",
    "Estamos em um problema de otimização não linear sem restrições. \n",
    "\n",
    "Além disso, sabe-se que a função custo é **convexa**. Ou seja, qualquer mínimo local será também um mínimo global.\n",
    "\n",
    "Assim, podemos minimizar $J(w,b)$ usando as condições de primeira ordem de otimização.\n",
    "\n",
    "Escolheremos as estimativas de parâmetros que satisfaçam:\n",
    "\n",
    "$$\\frac{\\partial J}{\\partial b} = 0$$\n",
    "\n",
    "$$\\frac{\\partial J}{\\partial w} = 0$$\n"
   ]
  },
  {
   "cell_type": "markdown",
   "id": "22844e19-de14-41fb-9f82-3d5d1f4b1517",
   "metadata": {},
   "source": [
    "## Método dos mínimos quadrados ordinários\n",
    "\n",
    "Como visto na sala de aula, a solução do sistema acima resulta nas fórmulas do método dos mínimos quadrados ordinários. Estas fórmulas estão presentes em diversos livros de estatística:\n",
    "\n",
    "\n",
    "$${\\hat{w}} = \\frac{\\sum_{i=1}^{n}{y^{(i)}x^{(i)}}-\\frac{\\left(\\sum_{i=1}^{n}y^{(i)}\\right)\\left(\\sum_{i=1}^{n}x^{(i)}\\right)}{n}}{\\sum_{i=1}^{n} {x^{(i)}}^{2} -\\frac{({\\sum_{i=1}^{n}{x^{(i)})}}^2}{n}} = \\frac{\\sum_{i=1}^{n}{(x^{(i)} - \\bar{x})(y^{(i)} - \\bar{y})}}{\\sum_{i=1}^{n}{(x^{(i)} - \\bar{x})^2}}$$\n",
    "\n",
    "\n",
    "$${\\hat{b}}=\\bar{y} - {\\hat{w}} \\bar{x}$$\n"
   ]
  },
  {
   "cell_type": "markdown",
   "id": "e3623e93-600c-440e-9845-2c8d7efbe411",
   "metadata": {},
   "source": [
    "Assim, obtém-se o modelo regressor $$\\hat{y}={\\hat{w}}x + \\hat{b}$$ que estima o valor médio do modelo de regressão. \n",
    "\n",
    "Cada observação satisfaz a relação $y^{(i)}={\\hat{b}}+{\\hat{w}}x+\\epsilon$, onde $\\epsilon=y^{(i)}-{\\hat{y}}^{(i)}$ é chamado de desvio ou resíduo."
   ]
  },
  {
   "cell_type": "code",
   "execution_count": null,
   "id": "c486dffd",
   "metadata": {},
   "outputs": [],
   "source": [
    "n=X.shape[0]\n",
    "\n",
    "w_hat = (y.T @ X - (np.sum(y) * np.sum(X)) / n) / (X.T @ X - np.sum(X)**2/n)\n",
    "\n",
    "b_hat = np.mean(y) - w_hat * np.mean(X)\n",
    "\n",
    "print(w_hat)\n",
    "print(b_hat)"
   ]
  },
  {
   "cell_type": "code",
   "execution_count": null,
   "id": "3d6dcbfe",
   "metadata": {},
   "outputs": [],
   "source": [
    "#Calculando o custo nas estimativas!\n",
    "\n",
    "custo_total (X,y, w_hat, b_hat).round(2)"
   ]
  },
  {
   "cell_type": "markdown",
   "id": "1c7b74c6",
   "metadata": {},
   "source": [
    "# Usando a biblioteca sklearn"
   ]
  },
  {
   "cell_type": "code",
   "execution_count": null,
   "id": "2960c000",
   "metadata": {},
   "outputs": [],
   "source": [
    "from sklearn.linear_model import LinearRegression\n",
    "\n",
    "lin_reg = LinearRegression()\n",
    "lin_reg.fit(X, y)\n",
    "lin_reg.coef_, lin_reg.intercept_"
   ]
  },
  {
   "cell_type": "markdown",
   "id": "8042ef6e",
   "metadata": {},
   "source": [
    "Perceba que obtivemos os mesmos valores!"
   ]
  },
  {
   "cell_type": "markdown",
   "id": "e68ce1c7",
   "metadata": {},
   "source": [
    "## Gerando exemplos de teste\n",
    "\n",
    "Vamos usar a mesma metodologia acima para gerar novos dados (que não foram usados previamente no treinamento do modelo).\n",
    "\n",
    "Esses dados serão então, usados para realizar a previsão."
   ]
  },
  {
   "cell_type": "code",
   "execution_count": null,
   "id": "eb85e9ab",
   "metadata": {},
   "outputs": [],
   "source": [
    "mu, sigma = 150, 50 # média e desvio padrão\n",
    "mu_2, sigma_2 = 0, 10\n",
    "X_teste = np.random.normal(mu, sigma, size=(30,1))\n",
    "y_teste = 25 + 2 * X_teste + np.random.normal(mu_2, sigma_2, size=(30,1))"
   ]
  },
  {
   "cell_type": "markdown",
   "id": "9c0281dd",
   "metadata": {},
   "source": [
    "Usando os parâmetros estimados acima em lin_reg, podemos prever os preços "
   ]
  },
  {
   "cell_type": "code",
   "execution_count": null,
   "id": "5050e6e8",
   "metadata": {},
   "outputs": [],
   "source": [
    "y_pred = lin_reg.predict(X_teste)\n",
    "y_pred"
   ]
  },
  {
   "cell_type": "markdown",
   "id": "cfc327fa",
   "metadata": {},
   "source": [
    "**O custo pode ser calculado com nossa função custo total**"
   ]
  },
  {
   "cell_type": "code",
   "execution_count": null,
   "id": "9664e4eb",
   "metadata": {},
   "outputs": [],
   "source": [
    "# Usando os parâmetros do sklearn \n",
    "print (custo_total (X_teste, y_teste, lin_reg.coef_, lin_reg.intercept_))\n",
    "\n",
    "# Usando os parâmetros da nossa fórmula da função fechada\n",
    "print (custo_total (X_teste, y_teste, w_hat, b_hat))"
   ]
  },
  {
   "cell_type": "markdown",
   "id": "8aeed21b",
   "metadata": {},
   "source": [
    "Também podemos calcular o custo com o sklearn. \n",
    "\n",
    "Nesse caso, o valor quadrático é multiplicado por $\\frac{1}{n}$ ao invés de $\\frac{1}{2n}$ "
   ]
  },
  {
   "cell_type": "code",
   "execution_count": null,
   "id": "b83a2cb4",
   "metadata": {},
   "outputs": [],
   "source": [
    "from sklearn.metrics import mean_squared_error, mean_absolute_error"
   ]
  },
  {
   "cell_type": "code",
   "execution_count": null,
   "id": "5fd6bfac",
   "metadata": {},
   "outputs": [],
   "source": [
    "mean_squared_error(y_pred, y_teste)"
   ]
  },
  {
   "cell_type": "code",
   "execution_count": null,
   "id": "952ded38",
   "metadata": {},
   "outputs": [],
   "source": [
    "# Dividindo o valor acima por 2, chegamos  aos nossos valores da função custo_total\n",
    "\n",
    "mean_squared_error(y_pred, y_teste)/2"
   ]
  },
  {
   "cell_type": "markdown",
   "id": "33603c1f",
   "metadata": {},
   "source": [
    "### Coeficiente de Determinção"
   ]
  },
  {
   "cell_type": "code",
   "execution_count": null,
   "id": "a176d7e7",
   "metadata": {},
   "outputs": [],
   "source": [
    "from sklearn.metrics import r2_score"
   ]
  },
  {
   "cell_type": "code",
   "execution_count": null,
   "id": "726d9d2b",
   "metadata": {},
   "outputs": [],
   "source": [
    "r2_treino = r2_score(y, lin_reg.predict(X))\n",
    "print('Coeficiente de Determinação R² dos dados de treinamento:', r2_treino)\n",
    "\n",
    "r2 = r2_score(y_teste, y_pred)\n",
    "print('Coeficiente de Determinação R² dos dados de teste:', r2)"
   ]
  },
  {
   "cell_type": "markdown",
   "id": "f203c494",
   "metadata": {},
   "source": [
    "------------------------------------------------------------------------------------------------------------\n",
    "\n",
    "------------------------------------------------------------------------------------------------------------\n",
    "\n",
    "------------------------------------------------------------------------------------------------------------\n",
    "\n",
    "------------------------------------------------------------------------------------------------------------"
   ]
  },
  {
   "cell_type": "markdown",
   "id": "647e1442-6c9b-4029-9bc1-5899c3aacad5",
   "metadata": {},
   "source": [
    "## Regressão linear com vários atributos"
   ]
  },
  {
   "cell_type": "markdown",
   "id": "996d2fbc-740f-4f43-8820-4d256fde2dfc",
   "metadata": {},
   "source": [
    "No caso genérico, uma observação, então, é dada por um vetor de $d$ atributos $\\mathbf{x}_i \\in \\mathbb{R}^p$. \n",
    "\n",
    "Considerando o relacionamento entre as variáveis de entrada $\\mathbf{x}_i \\in \\mathbb{R}^p$ e o valor de saída $y\\in\\mathbb{R}$ linear, temos uma **regressão linear**:\n",
    "\n",
    "$$y=\\mathbf{w}^{T}\\mathbf{x} + b + \\epsilon$$\n"
   ]
  },
  {
   "cell_type": "markdown",
   "id": "0f98d69d-fd34-429b-a8c8-b2f67c1f43f7",
   "metadata": {},
   "source": [
    "Onde:\n",
    "- $\\mathbf{w}^{T}=[w_1,\\ldots,\\ w_p]$ é um vetor de parâmetros, no qual $w_j$ é o coeficiente a variável independente $x_j$;\n",
    "- $b$ equivale ao intercepto do modelo de regressão linear simples\n",
    "- $\\epsilon$ é um erro não redutível. \n",
    "\n",
    "O coeficiente $w_j$ indica como a variável dependente $y$ muda em média quando $x_j$ é adicionado em uma unidade e as demais variáveis independentes permanecem constantes. \n",
    "\n",
    "Esses parâmetros são valores que controlam o comportamento do sistema, muitas vezes chamados de pesos ou coeficientes da regressão."
   ]
  },
  {
   "cell_type": "markdown",
   "id": "8ed5688a-bf68-4f6f-ac66-afe9a2c8495b",
   "metadata": {},
   "source": [
    "### Adicionando o intercepto"
   ]
  },
  {
   "cell_type": "markdown",
   "id": "105f9e0e",
   "metadata": {},
   "source": [
    "## Um problema de previsão de demanda com várias variáveis independentes "
   ]
  },
  {
   "cell_type": "markdown",
   "id": "43e64a05",
   "metadata": {},
   "source": [
    "Vamos fazer um exercício que envolve múltiplas variáveis independentes. O problema envolve a brasileira por um produto vendido no exterior. Os atributos são:\n",
    "\n",
    "- Taxa de câmbio\n",
    "- Preço de venda no site\n",
    "- Gasto da empresa americana com marketing no Brasil\n",
    "\n",
    "O conjunto de dados será gerado aleatoriamente abaixo."
   ]
  },
  {
   "cell_type": "code",
   "execution_count": null,
   "id": "d463a787",
   "metadata": {},
   "outputs": [],
   "source": [
    "# Gerar dados aleatórios\n",
    "n_amostras = 1000\n",
    "taxa_cambio = np.random.normal(5, 0.5, n_amostras)  # Taxa de câmbio flutua em torno de 5 BRL/USD\n",
    "preco_produto_usd = np.random.uniform(20, 100, n_amostras)  # Preço do produto varia de $20 a $100\n",
    "gasto_marketing_usd = np.random.uniform(1000, 5000, n_amostras)  # Gastos com marketing em dólares\n"
   ]
  },
  {
   "cell_type": "markdown",
   "id": "78b13f68",
   "metadata": {},
   "source": [
    "A relação entre a demanda e as variáveis independentes será modelada abaixo (acrescentando um erro aleatório):"
   ]
  },
  {
   "cell_type": "code",
   "execution_count": null,
   "id": "1c375617",
   "metadata": {},
   "outputs": [],
   "source": [
    "demanda_brasil = (\n",
    "    10000\n",
    "    - 500 * taxa_cambio  # Impacto negativo de uma taxa de câmbio mais alta\n",
    "    + 0.3 * (6000 - preco_produto_usd)  # Preço mais baixo pode impulsionar a demanda\n",
    "    + 0.1 * gasto_marketing_usd  # Mais marketing, mais demanda\n",
    "    + np.random.normal(0, 300, n_amostras)  # Ruído aleatório\n",
    ")"
   ]
  },
  {
   "cell_type": "code",
   "execution_count": null,
   "id": "656cea47",
   "metadata": {},
   "outputs": [],
   "source": [
    "# Criando o DataFrame\n",
    "\n",
    "df = pd.DataFrame({\n",
    "    'Taxa de Câmbio (USD para BRL)': taxa_cambio,\n",
    "    'Preço do Produto em USD': preco_produto_usd,\n",
    "    'Gasto com Marketing em USD': gasto_marketing_usd,\n",
    "    'Demanda no Brasil (unidades)': demanda_brasil\n",
    "})\n",
    "\n",
    "df"
   ]
  },
  {
   "cell_type": "code",
   "execution_count": null,
   "id": "54239a03",
   "metadata": {},
   "outputs": [],
   "source": [
    "X = df[['Taxa de Câmbio (USD para BRL)', 'Preço do Produto em USD', 'Gasto com Marketing em USD']]\n",
    "y = df['Demanda no Brasil (unidades)']"
   ]
  },
  {
   "cell_type": "code",
   "execution_count": null,
   "id": "1a4180a3",
   "metadata": {},
   "outputs": [],
   "source": [
    "print(f\"O tamanho da matriz X é: {X.shape}\")\n",
    "\n",
    "print(f\"O tamanho do vetor y é: {y.shape}\")"
   ]
  },
  {
   "cell_type": "markdown",
   "id": "8457c199",
   "metadata": {},
   "source": [
    "### Dividindo o conjunto de dados para treinamento e teste\n",
    "\n",
    "Uma forma prática de usar o conjunto de dados que possuímos consiste em dividi-lo em treinamento e teste.\n",
    "\n",
    "Isse procedimento é chamado de **Holdout** e já está pré-programado na biblioteca $sklean$.\n",
    "\n",
    "Primeiro, ajustamos a regressão usando só os dados de treinamento.\n",
    "\n",
    "Em seguida, usamos os dados de teste para realizar a previsão e testar se \"acertamos\" a demanda."
   ]
  },
  {
   "cell_type": "code",
   "execution_count": null,
   "id": "8daf82a3",
   "metadata": {},
   "outputs": [],
   "source": [
    "from sklearn.model_selection import train_test_split"
   ]
  },
  {
   "cell_type": "code",
   "execution_count": null,
   "id": "60563b29",
   "metadata": {},
   "outputs": [],
   "source": [
    "X_treino, X_teste, y_treino, y_teste = train_test_split(X, y, test_size=0.2, random_state=0)\n",
    "\n",
    "\n",
    "\n",
    "print(f\"O tamanho da matriz X_treino é: {X_treino.shape}\")\n",
    "print(f\"O tamanho do vetor y_treino é: {y_treino.shape}\")\n",
    "\n",
    "print(\"-------------------------------\")\n",
    "print(f\"O tamanho da matriz X_teste é: {X_teste.shape}\")\n",
    "print(f\"O tamanho do vetor y_teste é: {y_teste.shape}\")"
   ]
  },
  {
   "cell_type": "code",
   "execution_count": null,
   "id": "93a74173",
   "metadata": {},
   "outputs": [],
   "source": [
    "# Treinamento do modelode regressão linear\n",
    "\n",
    "modelo = LinearRegression()\n",
    "modelo.fit(X_treino, y_treino)\n",
    "\n",
    "\n",
    "print(f\"w = {modelo.coef_}\")\n",
    "print(f\"b = {modelo.intercept_}\")"
   ]
  },
  {
   "cell_type": "code",
   "execution_count": null,
   "id": "0291fdb3",
   "metadata": {},
   "outputs": [],
   "source": [
    "# Previsão da demanda no conjunto de teste\n",
    "y_pred = modelo.predict(X_teste)\n",
    "\n",
    "# Calcular o erro quadrático médio (EQM)\n",
    "MSE = mean_squared_error(y_teste, y_pred)\n",
    "print('Erro Quadrático Médio:', MSE)\n",
    "\n",
    "print('Erro Absoluto Médio:', mean_absolute_error(y_teste, y_pred))"
   ]
  },
  {
   "cell_type": "markdown",
   "id": "ed3e5d8a",
   "metadata": {},
   "source": [
    "Perceba que o método $modelo.predict()$ está apenas aplicando o produto interno $\\vec{w}\\cdot\\vec{x}$ e somando $b$\n",
    "\n",
    "Veja:"
   ]
  },
  {
   "cell_type": "code",
   "execution_count": null,
   "id": "c55984d2",
   "metadata": {},
   "outputs": [],
   "source": [
    "# Previsão da demanda no conjunto de teste\n",
    "y_pred = modelo.coef_.dot(X_teste.T) + modelo.intercept_\n",
    "\n",
    "# Calcular o erro quadrático médio (EQM)\n",
    "MSE = mean_squared_error(y_teste, y_pred)\n",
    "print('Erro Quadrático Médio:', MSE)\n",
    "print('Erro Absoluto Médio:', mean_absolute_error(y_teste, y_pred))"
   ]
  },
  {
   "cell_type": "markdown",
   "id": "e823cf4f",
   "metadata": {},
   "source": [
    "### Coeficiente de Determinção"
   ]
  },
  {
   "cell_type": "code",
   "execution_count": null,
   "id": "6628fed1",
   "metadata": {},
   "outputs": [],
   "source": [
    "r2_treino = r2_score(y_treino, modelo.predict(X_treino))\n",
    "print('Coeficiente de Determinação R² dos dados de treinamento:', r2_treino)\n",
    "\n",
    "r2 = r2_score(y_teste, modelo.predict(X_teste))\n",
    "print('Coeficiente de Determinação R² dos dados de teste:', r2)"
   ]
  }
 ],
 "metadata": {
  "kernelspec": {
   "display_name": "Python 3.9.7 ('base')",
   "language": "python",
   "name": "python3"
  },
  "language_info": {
   "codemirror_mode": {
    "name": "ipython",
    "version": 3
   },
   "file_extension": ".py",
   "mimetype": "text/x-python",
   "name": "python",
   "nbconvert_exporter": "python",
   "pygments_lexer": "ipython3",
   "version": "3.9.7"
  },
  "vscode": {
   "interpreter": {
    "hash": "e4cce46d6be9934fbd27f9ca0432556941ea5bdf741d4f4d64c6cd7f8dfa8fba"
   }
  }
 },
 "nbformat": 4,
 "nbformat_minor": 5
}
