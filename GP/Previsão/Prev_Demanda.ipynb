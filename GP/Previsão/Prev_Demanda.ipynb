{
 "cells": [
  {
   "attachments": {},
   "cell_type": "markdown",
   "id": "e159502c-561c-4d4e-94bb-26565d45cf11",
   "metadata": {},
   "source": [
    "[![Open In Colab](https://colab.research.google.com/assets/colab-badge.svg)](https://colab.research.google.com/github/diogoflim/MGP/blob/main/GP/Previsão/Prev_Demanda.ipynb)"
   ]
  },
  {
   "attachments": {},
   "cell_type": "markdown",
   "id": "67f7a0db-b2fe-4613-aba7-d4d950eb86f5",
   "metadata": {},
   "source": [
    "# Modelagem e Gestão de Processos\n",
    "\n",
    "\n",
    "**Prof. Diogo Ferreira de Lima Silva (TEP-UFF)**\n",
    "\n",
    "\n",
    "Código produzido a partir de: https://medium.com/mlearning-ai/a-stochastic-model-for-demand-forecating-in-python-a1b568b80b94"
   ]
  },
  {
   "attachments": {},
   "cell_type": "markdown",
   "metadata": {},
   "source": [
    "# Previsão de Demanda - Médias Móveis\n",
    "\n",
    "Nessa aula, vamos fazer algumas análises para previsão de demanda no Python. Para isso, utilizaremos alguns conjuntos de dados disponíveis no Kaggle.\n",
    " "
   ]
  },
  {
   "attachments": {},
   "cell_type": "markdown",
   "metadata": {},
   "source": [
    "### Importando Bibliotecas\n",
    "\n",
    "Importaremos as seguintes bibliotecas:\n",
    "\n",
    "- pandas: biblioteca muito utilizada para análise de dados em formato tabular (assim como um Excel).\n",
    "- matplotlib.pyplot: pacote vastamente utilizado para visualizações.\n"
   ]
  },
  {
   "cell_type": "code",
   "execution_count": null,
   "metadata": {},
   "outputs": [],
   "source": [
    "import pandas as pd\n",
    "import matplotlib.pyplot as plt\n",
    "%matplotlib inline  "
   ]
  },
  {
   "attachments": {},
   "cell_type": "markdown",
   "metadata": {},
   "source": [
    "### Importação e limpeza dos dados\n",
    "\n",
    "Inicialmente, vamos importar os dados."
   ]
  },
  {
   "cell_type": "code",
   "execution_count": null,
   "metadata": {},
   "outputs": [],
   "source": [
    "# Como os nossos dados possuem uma coluna de datas, avisaremos isso ao python. \n",
    "\n",
    "url = 'https://raw.githubusercontent.com/diogoflim/MGP/main/GP/dados/dados_passageiros.csv'\n",
    "\n",
    "\n",
    "dados_brutos = pd.read_csv(url, index_col=0, parse_dates=[\"Month\"])\n",
    "dados_brutos"
   ]
  },
  {
   "attachments": {},
   "cell_type": "markdown",
   "metadata": {},
   "source": [
    "Nossos dados parecem estar organizados. Vou apenas renomear as colunas. \n",
    "\n",
    "Antes disso, criarei uma cópia para deixarmos guardados os dados brutos "
   ]
  },
  {
   "cell_type": "code",
   "execution_count": null,
   "metadata": {},
   "outputs": [],
   "source": [
    "dados_modificados = dados_brutos.rename(columns={\"#Passengers\": \"Passageiros\"}).rename_axis(\"Data\") # Muda o nome das colunas\n",
    "dados = dados_modificados.copy()\n",
    "dados"
   ]
  },
  {
   "attachments": {},
   "cell_type": "markdown",
   "metadata": {},
   "source": [
    "### Visualização inicial"
   ]
  },
  {
   "attachments": {},
   "cell_type": "markdown",
   "metadata": {},
   "source": [
    "Inicialmente, podemos perceber que nossos temos 144 observações de demandas mensais de passageiros, entre 1949 e 1960.\n",
    "\n",
    "Uma visualização básica pode nos ajudar a entender o funcionamento da demanda.\n",
    "\n",
    "Vamos usar um simples gráfico de linha."
   ]
  },
  {
   "cell_type": "code",
   "execution_count": null,
   "metadata": {},
   "outputs": [],
   "source": [
    "plt.plot(dados)\n",
    "plt.show()"
   ]
  },
  {
   "attachments": {},
   "cell_type": "markdown",
   "metadata": {},
   "source": [
    "A demanda cresceu ao longo dos anos. Porém, um comportamento cíclico parece ter sido detectado.\n",
    "\n",
    "O que poderia ser?\n",
    "\n",
    "- **Talvez alguns meses (exemplo: férias) impactem a demanda por passageiros.**  \n",
    "\n",
    "Veremos neste notebook como considerar o efeito sazonal. Inicialmente, veja como calcular a média por mês:"
   ]
  },
  {
   "cell_type": "code",
   "execution_count": null,
   "metadata": {},
   "outputs": [],
   "source": [
    "dados.groupby(by=[dados.index.month]).mean().rename_axis(\"Mês\")"
   ]
  },
  {
   "attachments": {},
   "cell_type": "markdown",
   "metadata": {},
   "source": [
    "A análise indica uma maior média nos meses de **verão no hemisfério norte!**\n",
    "\n",
    "Vamos seguir para os modelos de séries temporais."
   ]
  },
  {
   "attachments": {},
   "cell_type": "markdown",
   "metadata": {},
   "source": [
    "### Média móvel simples (SMA)\n"
   ]
  },
  {
   "attachments": {},
   "cell_type": "markdown",
   "metadata": {},
   "source": [
    "Vamos aplicar uma média móvel simples com tempo igual a 3"
   ]
  },
  {
   "cell_type": "code",
   "execution_count": null,
   "metadata": {},
   "outputs": [],
   "source": [
    "k=3\n",
    "dados.rolling(k).mean().shift(1)"
   ]
  },
  {
   "cell_type": "markdown",
   "metadata": {},
   "source": [
    "### Criando uma nova coluna com os resultados\n",
    "\n",
    "Criaremos uma nova coluna que receberá essa análise!\n"
   ]
  },
  {
   "cell_type": "code",
   "execution_count": null,
   "metadata": {},
   "outputs": [],
   "source": [
    "dados[\"MM_3\"]= dados[\"Passageiros\"].rolling(k).mean().shift(1)\n",
    "dados"
   ]
  },
  {
   "attachments": {},
   "cell_type": "markdown",
   "metadata": {},
   "source": [
    "### Variando o malor do hiperparâmetro\n",
    "\n",
    "Seguindo esse raciocínio, poderíamos fazer várias ao mesmo tempo"
   ]
  },
  {
   "cell_type": "code",
   "execution_count": null,
   "metadata": {},
   "outputs": [],
   "source": [
    "dados_sma = dados_modificados.copy()\n",
    "\n",
    "for k in [3, 6, 9, 12]: \n",
    "    dados_sma [\"MM_\" + str(k)] = dados_sma[\"Passageiros\"].rolling(k).mean().shift(1)\n",
    "\n",
    "dados_sma"
   ]
  },
  {
   "cell_type": "code",
   "execution_count": null,
   "metadata": {},
   "outputs": [],
   "source": [
    "dados_sma.plot(figsize=(16,12))"
   ]
  },
  {
   "attachments": {},
   "cell_type": "markdown",
   "metadata": {},
   "source": [
    "### Interpretando a escolha de $k$\n",
    "\n",
    "Perceba que valores mais altos de $k$ de alguma maneira suavizam a média! Estamos perdendo o efeito sazonal.\n",
    "\n",
    "Vamos analisar o modelo de suavização exponencial.\n"
   ]
  },
  {
   "attachments": {},
   "cell_type": "markdown",
   "metadata": {},
   "source": [
    "### Média Móvel Exponencialmente Ponderada (EWMA)"
   ]
  },
  {
   "cell_type": "code",
   "execution_count": null,
   "metadata": {},
   "outputs": [],
   "source": [
    "dados_ewma = dados_modificados.copy()"
   ]
  },
  {
   "cell_type": "code",
   "execution_count": null,
   "metadata": {},
   "outputs": [],
   "source": [
    "dados_ewma[\"alfa=0,5\"] = dados_ewma[\"Passageiros\"].ewm(alpha=0.5, adjust=False).mean()\n",
    "dados_ewma"
   ]
  },
  {
   "attachments": {},
   "cell_type": "markdown",
   "metadata": {},
   "source": [
    "### Considerando a Sazonalidade\n",
    "\n",
    "Para considerar a sazonalidade, usaremos o procedimento visto na aula:\n",
    "\n",
    "O efeito sazonal é dado por: $$\\frac{\\text{𝑚é𝑑𝑖𝑎 𝑑𝑜 𝑚ê𝑠}}{\\text{𝑚é𝑑𝑖𝑎 𝑡𝑜𝑡𝑎𝑙}}$$\n",
    "\n",
    "Uma vez calculado, faremos os passos:\n",
    "\n",
    "1. Use a fórmula a seguir para ajustar os dados com o efeito sazonal: $ 𝑉𝑎𝑙𝑜𝑟 𝑎𝑗𝑢𝑠𝑡𝑎𝑑𝑜 = \\frac{\\text{𝑉𝑎𝑙𝑜𝑟 𝑜𝑏𝑠𝑒𝑟𝑣𝑎𝑑𝑜}}{\\text{𝐸𝑓𝑒𝑖𝑡𝑜 𝑆𝑎𝑧𝑜𝑛𝑎𝑙}}$\n",
    "\n",
    "2. Escolha um método de previsão\n",
    "\n",
    "3. Aplique o método de previsão aos dados ajustados (que consideram o efeito sazonal)\n",
    "\n",
    "4. Multiplique essa previsão pelo efeito sazonal correspondente para obter o valor de previsão real (sem o ajuste sazonal)\n"
   ]
  },
  {
   "cell_type": "code",
   "execution_count": null,
   "metadata": {},
   "outputs": [],
   "source": [
    "dados_ajustados = dados_modificados.copy()\n",
    "dados_ajustados"
   ]
  },
  {
   "attachments": {},
   "cell_type": "markdown",
   "metadata": {},
   "source": [
    "### Calculando o Efeito Sazonal\n",
    "\n",
    "Inicialmente, precisamos calcular o efeito sazonal. Para isso, usamos a média mensal e a média total."
   ]
  },
  {
   "cell_type": "code",
   "execution_count": null,
   "metadata": {},
   "outputs": [],
   "source": [
    "media_total = dados_ajustados.mean()\n",
    "media_total"
   ]
  },
  {
   "cell_type": "code",
   "execution_count": null,
   "metadata": {},
   "outputs": [],
   "source": [
    "media_mensal = dados_ajustados.groupby(by=[dados_ajustados.index.month]).mean().rename_axis(\"Mês\")\n",
    "\n",
    "media_mensal"
   ]
  },
  {
   "cell_type": "code",
   "execution_count": null,
   "metadata": {},
   "outputs": [],
   "source": [
    "efeito_sazonal = media_mensal / media_total\n",
    "efeito_sazonal"
   ]
  },
  {
   "attachments": {},
   "cell_type": "markdown",
   "metadata": {},
   "source": [
    "De posse dessa informação, vamos para o passo 1 do procedimento. Devemos dividir cada valor pelo seu efeito sazonal correspondente."
   ]
  },
  {
   "attachments": {},
   "cell_type": "markdown",
   "metadata": {},
   "source": [
    "### Tabela Modificada\n",
    "Vejamos a tabela com as vendas originais e as modificadas pelo efeito sazonal"
   ]
  },
  {
   "cell_type": "code",
   "execution_count": null,
   "metadata": {},
   "outputs": [],
   "source": [
    "dados_ajustados"
   ]
  },
  {
   "cell_type": "code",
   "execution_count": null,
   "metadata": {},
   "outputs": [],
   "source": [
    "dados_ajustados[\"Mês\"] = dados_ajustados.index.month\n",
    "dados_ajustados"
   ]
  },
  {
   "cell_type": "code",
   "execution_count": null,
   "metadata": {},
   "outputs": [],
   "source": [
    "efeito_sazonal.loc[1]"
   ]
  },
  {
   "cell_type": "code",
   "execution_count": null,
   "metadata": {},
   "outputs": [],
   "source": [
    "dados_ajustados[\"Efeito Sazonal\"] = [efeito_sazonal.loc[i][\"Passageiros\"] for i in dados_ajustados[\"Mês\"]]\n",
    "\n",
    "dados_ajustados"
   ]
  },
  {
   "cell_type": "code",
   "execution_count": null,
   "metadata": {},
   "outputs": [],
   "source": [
    "dados_ajustados[\"x_t ajustado\"] = dados_ajustados[\"Passageiros\"] * dados_ajustados[\"Efeito Sazonal\"]\n"
   ]
  },
  {
   "cell_type": "code",
   "execution_count": null,
   "metadata": {},
   "outputs": [],
   "source": [
    "dados_ajustados"
   ]
  },
  {
   "attachments": {},
   "cell_type": "markdown",
   "metadata": {},
   "source": [
    "## Previsões nos dados ajustados\n",
    "\n",
    "Agora, podemos aplicar uma previsão usando o x_t ajustado.\n",
    "\n",
    "Vamos utilizar a suavização exponencial."
   ]
  },
  {
   "cell_type": "code",
   "execution_count": null,
   "metadata": {},
   "outputs": [],
   "source": [
    "dados_ajustados[\"ewma_ajustado\"]= dados_ajustados[\"x_t ajustado\"].ewm(alpha=0.5, adjust=False).mean()\n",
    "\n",
    "for k in [3, 6, 9, 12]: \n",
    "    dados_ajustados [\"MM_\" + str(k) + \"_ajustado\"] = dados_ajustados[\"Passageiros\"].rolling(k).mean().shift(1)\n",
    "\n",
    "dados_ajustados"
   ]
  },
  {
   "attachments": {},
   "cell_type": "markdown",
   "metadata": {},
   "source": [
    "## Multiplicando as previsões pelo efeito sazonal"
   ]
  },
  {
   "cell_type": "code",
   "execution_count": null,
   "metadata": {},
   "outputs": [],
   "source": [
    "dados_ajustados[\"ewma\"] = dados_ajustados[\"ewma_ajustado\"] * dados_ajustados[\"Efeito Sazonal\"]"
   ]
  },
  {
   "cell_type": "code",
   "execution_count": null,
   "metadata": {},
   "outputs": [],
   "source": [
    "for k in [3, 6, 9, 12]:  \n",
    "    dados_ajustados [\"MM_\" + str(k)] = dados_ajustados [\"MM_\" + str(k) + \"_ajustado\"] * dados_ajustados[\"Efeito Sazonal\"]"
   ]
  },
  {
   "cell_type": "code",
   "execution_count": null,
   "metadata": {},
   "outputs": [],
   "source": [
    "dados_ajustados"
   ]
  },
  {
   "cell_type": "markdown",
   "metadata": {},
   "source": [
    "# Performance do Preditor\n",
    "\n",
    "Há diversas formas de analizar a qualidade de um preditor. \n",
    "\n",
    "Em uma tarefa de regressão, tal como a previsão de demanda, uma medida de performance muito utilizada é o erro médio quadrático.\n",
    "\n",
    "$$J=\\frac{1}{n}\\sum_{t=1}^{n} (X_t - F_t)^2$$\n",
    "\n",
    "\n",
    "Esse método está disponível no Python em uma biblioteca clássica de Aprendizado de Máquina. \n",
    "\n",
    "\n",
    "Vamos utilizar essa métrica em nossa análise."
   ]
  },
  {
   "cell_type": "code",
   "execution_count": null,
   "metadata": {},
   "outputs": [],
   "source": [
    "from sklearn.metrics import mean_squared_error"
   ]
  },
  {
   "cell_type": "code",
   "execution_count": null,
   "metadata": {},
   "outputs": [],
   "source": [
    "print(\"Erro Médio Quadrático SEM CONSIDERAR a sazonalidade:\")\n",
    "print(f'Suavização Exponencial com alfa = 0,5: {mean_squared_error(dados_ewma[\"Passageiros\"].iloc[-30:], dados_ewma[\"alfa=0,5\"].iloc[-30:])}')\n",
    "print(f'Média móvel com k = 3: {mean_squared_error(dados_sma[\"Passageiros\"].iloc[-30:], dados_sma[\"MM_3\"].iloc[-30:])}')\n",
    "print(f'Média móvel com k = 6: {mean_squared_error(dados_sma[\"Passageiros\"].iloc[-30:], dados_sma[\"MM_6\"].iloc[-30:])}')\n",
    "print(f'Média móvel com k = 9: {mean_squared_error(dados_sma[\"Passageiros\"].iloc[-30:], dados_sma[\"MM_9\"].iloc[-30:])}')\n",
    "print(f'Média móvel com k = 12: {mean_squared_error(dados_sma[\"Passageiros\"].iloc[-30:], dados_sma[\"MM_12\"].iloc[-30:])}')\n",
    "\n",
    "\n",
    "\n",
    "\n",
    "print(\"-------------------------------------------\")\n",
    "\n",
    "print(\"Erro Médio Quadrático CONSIDERANDO a sazonalidade:\")\n",
    "print(f'Suavização Exponencial com alfa = 0,5: {mean_squared_error(dados_ajustados[\"Passageiros\"].iloc[-30:], dados_ajustados[\"ewma\"].iloc[-30:])}')\n",
    "print(f'Média móvel com k = 3: {mean_squared_error(dados_ajustados[\"Passageiros\"].iloc[-30:], dados_ajustados[\"MM_3\"].iloc[-30:])}')\n",
    "print(f'Média móvel com k = 6: {mean_squared_error(dados_ajustados[\"Passageiros\"].iloc[-30:], dados_ajustados[\"MM_6\"].iloc[-30:])}')\n",
    "print(f'Média móvel com k = 9: {mean_squared_error(dados_ajustados[\"Passageiros\"].iloc[-30:], dados_ajustados[\"MM_9\"].iloc[-30:])}')\n",
    "print(f'Média móvel com k = 12: {mean_squared_error(dados_ajustados[\"Passageiros\"].iloc[-30:], dados_ajustados[\"MM_12\"].iloc[-30:])}')\n"
   ]
  },
  {
   "cell_type": "markdown",
   "metadata": {},
   "source": [
    "# Exercício\n",
    "\n",
    "Resolva o exercício apresentado no último slide da aula de séries temporais."
   ]
  },
  {
   "cell_type": "code",
   "execution_count": null,
   "metadata": {},
   "outputs": [],
   "source": [
    "from datetime import datetime"
   ]
  },
  {
   "cell_type": "code",
   "execution_count": null,
   "metadata": {},
   "outputs": [],
   "source": [
    "Vendas = [112,146,122,125,127,157,150,235,60,92,206,312,146,113,92,160,188,190,168,235,122,97,186,354,199,175,88,112,149,140,154,275,90,120,226,360]"
   ]
  },
  {
   "cell_type": "code",
   "execution_count": null,
   "metadata": {},
   "outputs": [],
   "source": [
    "start_dt = datetime.strptime(\"2001-01\", \"%Y-%m\")\n",
    "end_dt = datetime.strptime(\"2004-01\", \"%Y-%m\")\n",
    "date_list = pd.date_range(start_dt, end_dt, freq='M')\n",
    "date_list\n"
   ]
  },
  {
   "cell_type": "code",
   "execution_count": null,
   "metadata": {},
   "outputs": [],
   "source": [
    "dados = pd.DataFrame({\"Vendas\": Vendas})\n",
    "dados.index = date_list\n",
    "dados"
   ]
  },
  {
   "cell_type": "code",
   "execution_count": null,
   "metadata": {},
   "outputs": [],
   "source": []
  }
 ],
 "metadata": {
  "kernelspec": {
   "display_name": "Python 3.9.7 ('base')",
   "language": "python",
   "name": "python3"
  },
  "language_info": {
   "codemirror_mode": {
    "name": "ipython",
    "version": 3
   },
   "file_extension": ".py",
   "mimetype": "text/x-python",
   "name": "python",
   "nbconvert_exporter": "python",
   "pygments_lexer": "ipython3",
   "version": "3.9.7"
  },
  "orig_nbformat": 4,
  "vscode": {
   "interpreter": {
    "hash": "e4cce46d6be9934fbd27f9ca0432556941ea5bdf741d4f4d64c6cd7f8dfa8fba"
   }
  }
 },
 "nbformat": 4,
 "nbformat_minor": 2
}
