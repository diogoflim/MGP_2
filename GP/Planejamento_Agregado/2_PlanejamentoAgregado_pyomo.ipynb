{
 "cells": [
  {
   "attachments": {},
   "cell_type": "markdown",
   "metadata": {},
   "source": [
    "[![Open In Colab](https://colab.research.google.com/assets/colab-badge.svg)](https://colab.research.google.com/github/diogoflim/MGP/blob/main/GP/Planejamento_Agregado/2_PlanejamentoAgregado_pyomo.ipynb)"
   ]
  },
  {
   "attachments": {},
   "cell_type": "markdown",
   "metadata": {},
   "source": [
    "# Modelagem e Gestão de Processos\n",
    "\n",
    "TEP - UFF\n",
    "\n",
    "\n",
    "**Professor: Diogo Ferreira de Lima Silva**"
   ]
  },
  {
   "cell_type": "code",
   "execution_count": null,
   "metadata": {},
   "outputs": [],
   "source": [
    "#Execute esse bloco caso esteja executando no Google Colab\n",
    "!pip install -q pyomo\n",
    "!apt-get install -y -qq glpk-utils"
   ]
  },
  {
   "cell_type": "code",
   "execution_count": 1,
   "metadata": {},
   "outputs": [],
   "source": [
    "# Importando o Pyomo\n",
    "import pyomo.environ as pe \n",
    "import pandas as pd"
   ]
  },
  {
   "cell_type": "markdown",
   "metadata": {},
   "source": [
    "## Exercício - Planejamento de um Evento\n",
    "\n",
    "O organizador de uma conferência deve fornecer almoços para os cinco dias de uma conferência. O organizador se depara com o problema de decidir sobre o fornecimento diário de guardanapos limpos. Ele sabe que os números de participantes da conferência que precisam almoçar nos cinco dias são 130, 220, 180, 120 e 100. Suas alternativas são: comprar novos guardanapos a 25 centavos cada. Enviar guardanapos usados para a lavandaria onde podem receber um serviço de 48 horas a 10 centavos o guardanapo, ou um serviço de 24 horas a 15 centavos o guardanapo. Considere que esta conferência é uma atividade única, não será repetida no próximo mês/ano. Como o organizador deve fornecer guardanapos para minimizar o custo total?\n"
   ]
  },
  {
   "cell_type": "code",
   "execution_count": 13,
   "metadata": {},
   "outputs": [
    {
     "data": {
      "text/plain": [
       "{'Problem': [{'Name': 'unknown', 'Lower bound': 127.5, 'Upper bound': 127.5, 'Number of objectives': 1, 'Number of constraints': 10, 'Number of variables': 15, 'Number of nonzeros': 28, 'Sense': 'minimize'}], 'Solver': [{'Status': 'ok', 'Termination condition': 'optimal', 'Statistics': {'Branch and bound': {'Number of bounded subproblems': '1', 'Number of created subproblems': '1'}}, 'Error rc': 0, 'Time': 0.21642017364501953}], 'Solution': [OrderedDict([('number of solutions', 0), ('number of solutions displayed', 0)])]}"
      ]
     },
     "execution_count": 13,
     "metadata": {},
     "output_type": "execute_result"
    }
   ],
   "source": [
    "# Definindo o modelo\n",
    "M = pe.ConcreteModel()\n",
    "\n",
    "# Conjuntos\n",
    "Dias = [1,2,3,4,5]\n",
    "\n",
    "# Parâmetros\n",
    "Demandas = {1: 130, 2: 220, 3: 180, 4: 120, 5: 100}\n",
    "C_novo = 0.25\n",
    "C_48 = 0.10\n",
    "C_24 = 0.15\n",
    "\n",
    "# Variáveis de decisão\n",
    "x = M.x = pe.Var(Dias, within=pe.NonNegativeIntegers)\n",
    "y48 = M.y48 = pe.Var(Dias, within=pe.NonNegativeIntegers)\n",
    "y24 = M.y24 = pe.Var(Dias, within=pe.NonNegativeIntegers)\n",
    "s = M.s = pe.Var(Dias, within=pe.NonNegativeIntegers) #estoque no final do dia \n",
    "\n",
    "\n",
    "# Função objetivo\n",
    "M.custo_total = pe.Objective(\n",
    "    expr=sum(C_novo * x[i] for i in Dias) +\n",
    "         sum(C_48 * y48[i] for i in Dias if i <= 4) + \n",
    "         sum(C_24 * y24[i] for i in Dias),\n",
    "    sense=pe.minimize\n",
    ")\n",
    "\n",
    "# Restrições\n",
    "M.constraints = pe.ConstraintList()\n",
    "\n",
    "# Restrições de demanda diária\n",
    "M.constraints.add(x[1] >= Demandas[1])\n",
    "M.constraints.add(x[2] + y24[1] >= Demandas[2])\n",
    "M.constraints.add(x[3] + y48[1] + y24[2] >= Demandas[3])\n",
    "M.constraints.add(x[4] + y48[2] + y24[3] >= Demandas[4])\n",
    "M.constraints.add(x[5] + y48[3] + y24[4] >= Demandas[5])\n",
    "\n",
    "# Restrições de disponibilidade dos guardanapos lavados em 48 horas\n",
    "M.constraints.add(y24[1]+y48[1] <= x[1])\n",
    "M.constraints.add(y24[2]+y48[2] <= x[2] + y24[1])\n",
    "M.constraints.add(y24[3]+y48[3] <= x[3] + y24[2])\n",
    "M.constraints.add(y24[4]+y48[4] <= x[4] + y24[3])\n",
    "\n",
    "\n",
    "# Solucionando o modelo\n",
    "solver = pe.SolverFactory('glpk')\n",
    "solver.solve(M)\n"
   ]
  },
  {
   "cell_type": "code",
   "execution_count": 12,
   "metadata": {},
   "outputs": [
    {
     "name": "stdout",
     "output_type": "stream",
     "text": [
      "Resultados:\n",
      "Demandas = {1: 130, 2: 220, 3: 180, 4: 120, 5: 100}\n",
      "Dia 1:\n",
      "  Guardanapos novos comprados: 130.0\n",
      " ---------------\n",
      "  Guardanapos enviados para lavagem (24h): 130.0\n",
      "  Guardanapos enviados para lavagem (48h): 0.0\n",
      " ---------------\n",
      "Dia 2:\n",
      "  Guardanapos novos comprados: 90.0\n",
      " ---------------\n",
      "  Guardanapos recebidos da lavanderia (24h): 130.0\n",
      " ---------------\n",
      "  Guardanapos enviados para lavagem (24h): 180.0\n",
      "  Guardanapos enviados para lavagem (48h): 40.0\n",
      " ---------------\n",
      "Dia 3:\n",
      "  Guardanapos novos comprados: 0.0\n",
      " ---------------\n",
      "  Guardanapos recebidos da lavanderia (24h): 180.0\n",
      "  Guardanapos recebidos da lavanderia (48h): 0.0\n",
      " ---------------\n",
      "  Guardanapos enviados para lavagem (24h): 80.0\n",
      "  Guardanapos enviados para lavagem (48h): 100.0\n",
      " ---------------\n",
      "Dia 4:\n",
      "  Guardanapos novos comprados: 0.0\n",
      " ---------------\n",
      "  Guardanapos recebidos da lavanderia (24h): 80.0\n",
      "  Guardanapos recebidos da lavanderia (48h): 40.0\n",
      " ---------------\n",
      "  Guardanapos enviados para lavagem (24h): 0.0\n",
      " ---------------\n",
      "Dia 5:\n",
      "  Guardanapos novos comprados: 0.0\n",
      " ---------------\n",
      "  Guardanapos recebidos da lavanderia (24h): 0.0\n",
      "  Guardanapos recebidos da lavanderia (48h): 100.0\n",
      " ---------------\n",
      "Custo total =  127.5\n"
     ]
    }
   ],
   "source": [
    "# Imprimindo os resultados\n",
    "print(\"Resultados:\")\n",
    "\n",
    "print(f\"Demandas = {Demandas}\")\n",
    "for i in Dias:\n",
    "    print(f\"Dia {i}:\")\n",
    "    print(f\"  Guardanapos novos comprados: {pe.value(x[i])}\")\n",
    "    if i>=2:\n",
    "        print(f\" ---------------\")\n",
    "        print(f\"  Guardanapos recebidos da lavanderia (24h): {pe.value(y24[i-1])}\")\n",
    "        if i>=3:\n",
    "            print(f\"  Guardanapos recebidos da lavanderia (48h): {pe.value(y48[i-2])}\")\n",
    "\n",
    "    if i <= 4:\n",
    "        print(f\" ---------------\")\n",
    "        print(f\"  Guardanapos enviados para lavagem (24h): {pe.value(y24[i])}\")\n",
    "        if i <= 3:\n",
    "            print(f\"  Guardanapos enviados para lavagem (48h): {pe.value(y48[i])}\")\n",
    "        \n",
    "    print(f\" ---------------\")\n",
    "print(\"Custo total = \", pe.value(M.custo_total))"
   ]
  },
  {
   "attachments": {},
   "cell_type": "markdown",
   "metadata": {},
   "source": [
    "## Um Problema de Planejamento Agregado"
   ]
  },
  {
   "cell_type": "markdown",
   "metadata": {},
   "source": [
    "Vamos relembrar o problema de planejamento agregado visto em sala. \n",
    "\n",
    "Um estudo de previsão de demanda realizado em uma fábrica resultou nos seguintes resultados para os próximos 4 meses: 52400, 45800, 65000 e 87600.\n",
    "\n",
    "A produção pode ser realizada de maneira regular, a partir de horas extras e/ou com o uso de subcontratação de terceiros, com custos unitários respectivamente de: 480,00, 600,00 e 750,00. Além disso, o custo unitário de manter em estoque por um período é de 225,00 unidades monetárias.\n",
    "\n",
    "As capacidades para cada período são ilustradas na tabela a seguir:\n",
    "\n",
    "| Período | Demandas | Capacidade Regular | Capacidade com Horas Extras | Capacidade com Subcontratações |\n",
    "|---------|----------|---------------------|-----------------------------|-------------------------------|\n",
    "| 1       | 52400    | 52400               | 8400                        | 4200                          |\n",
    "| 2       | 45800    | 42900               | 8400                        | 4200                          |\n",
    "| 3       | 65000    | 62300               | 8400                        | 4200                          |\n",
    "| 4       | 87600    | 62300               | 8400                        | 4200                          |\n",
    "\n",
    "\n",
    "Sabe-se que existe um estoque inicial de 5000 peças e deseja-se concluir o último período com 8000 peças em estoque. Qual o planejamento ideal para a produção das peças (quanto produzir em cada período com cada tipo de produção)? \n",
    "\n"
   ]
  },
  {
   "attachments": {},
   "cell_type": "markdown",
   "metadata": {},
   "source": [
    "## Etapa 1: Coleta de Dados do Problema"
   ]
  },
  {
   "cell_type": "code",
   "execution_count": null,
   "metadata": {},
   "outputs": [],
   "source": [
    "periodos = [1,2,3,4]\n",
    "decisoes = ['Regular', 'HoraExtra', 'Sub']"
   ]
  },
  {
   "cell_type": "code",
   "execution_count": null,
   "metadata": {},
   "outputs": [],
   "source": [
    "capacidades = pd.DataFrame({'Regular': [52400, 42900, 62300, 62300],\n",
    "                        'HoraExtra': [8400 for i in range(4)],\n",
    "                        'Sub': [4200 for i in range(4)]\n",
    "                        }, index = periodos)\n",
    "capacidades"
   ]
  },
  {
   "cell_type": "code",
   "execution_count": null,
   "metadata": {},
   "outputs": [],
   "source": [
    "capacidades_dict = capacidades.stack().to_dict()\n",
    "capacidades_dict"
   ]
  },
  {
   "cell_type": "code",
   "execution_count": null,
   "metadata": {},
   "outputs": [],
   "source": [
    "custos = {'Regular': 480, 'HoraExtra': 600, 'Sub': 750}\n",
    "custos"
   ]
  },
  {
   "cell_type": "code",
   "execution_count": null,
   "metadata": {},
   "outputs": [],
   "source": [
    "demandas = {1: 52400, 2: 45800, 3: 65000, 4: 87600}\n",
    "demandas"
   ]
  },
  {
   "attachments": {},
   "cell_type": "markdown",
   "metadata": {},
   "source": [
    "## Etapa 2: Modelagem"
   ]
  },
  {
   "attachments": {},
   "cell_type": "markdown",
   "metadata": {},
   "source": [
    "### Criando o modelo\n",
    "\n",
    "Para instanciar o modelo, basta usar a função ConcreteModel():"
   ]
  },
  {
   "cell_type": "code",
   "execution_count": null,
   "metadata": {},
   "outputs": [],
   "source": [
    "M = pe.ConcreteModel()"
   ]
  },
  {
   "attachments": {},
   "cell_type": "markdown",
   "metadata": {},
   "source": [
    "### Conjuntos\n",
    "\n",
    "Criando os nossos conjuntos:\n",
    "- Um conjunto para os períodos, chamado de I\n",
    "- Um conjunto para os tipos de produção, chamado de J"
   ]
  },
  {
   "cell_type": "code",
   "execution_count": null,
   "metadata": {},
   "outputs": [],
   "source": [
    "M.I = pe.Set(initialize = periodos)\n",
    "M.J = pe.Set(initialize = decisoes)"
   ]
  },
  {
   "attachments": {},
   "cell_type": "markdown",
   "metadata": {},
   "source": [
    "### Parâmetros\n",
    "\n",
    "Nossos parâmetros incluem as demandas, capacidades de produção e os custos"
   ]
  },
  {
   "cell_type": "code",
   "execution_count": null,
   "metadata": {},
   "outputs": [],
   "source": [
    "M.demandas = pe.Param(M.I, initialize = demandas)\n",
    "M.capacidades = pe.Param(M.I, M.J, initialize =  capacidades_dict)\n",
    "M.custos_prod = pe.Param(M.J, initialize = custos)\n",
    "M.custo_manter = pe.Param(initialize = 225)"
   ]
  },
  {
   "attachments": {},
   "cell_type": "markdown",
   "metadata": {},
   "source": [
    "### Variáveis de Decisão"
   ]
  },
  {
   "cell_type": "code",
   "execution_count": null,
   "metadata": {},
   "outputs": [],
   "source": [
    "M.x = pe.Var(M.I, M.J, within = pe.NonNegativeReals)\n",
    "M.estoque_inicial = pe.Var(M.I, within = pe.NonNegativeReals)\n",
    "M.estoque_final = pe.Var(M.I, within = pe.NonNegativeReals)"
   ]
  },
  {
   "attachments": {},
   "cell_type": "markdown",
   "metadata": {},
   "source": [
    "### Função Objetivo"
   ]
  },
  {
   "cell_type": "code",
   "execution_count": null,
   "metadata": {},
   "outputs": [],
   "source": [
    "def custo_total(M):\n",
    "    return sum(M.x[i,j] * M.custos_prod[j] for i in M.I for j in M.J) + sum(M.estoque_final[i] * M.custo_manter for i in M.I)\n",
    "\n",
    "M.z = pe.Objective(rule = custo_total, sense = pe.minimize)"
   ]
  },
  {
   "attachments": {},
   "cell_type": "markdown",
   "metadata": {},
   "source": [
    "### Restrições"
   ]
  },
  {
   "cell_type": "code",
   "execution_count": null,
   "metadata": {},
   "outputs": [],
   "source": [
    "# Restrições de demanda\n",
    "M.R_demanda = pe.ConstraintList()\n",
    "for i in M.I:\n",
    "    M.R_demanda.add(expr = M.estoque_inicial[i] + sum(M.x[i, j] for j in M.J) >= M.demandas[i])\n",
    "\n",
    "# Restrições de capacidade\n",
    "M.R_capacidade = pe.ConstraintList()\n",
    "for i in M.I:\n",
    "    for j in M.J:\n",
    "        M.R_capacidade.add(expr = M.x[i,j] <= M.capacidades[i,j])\n",
    "\n",
    "# Lógica dos Estoques\n",
    "M.R_estoquefinal = pe.ConstraintList()\n",
    "M.R_estoqueinicial = pe.ConstraintList()\n",
    "for i in M.I:    \n",
    "    M.R_estoquefinal.add(expr = M.estoque_inicial[i] + sum(M.x[i, j] for j in M.J) - M.demandas[i] == M.estoque_final[i])\n",
    "    if i > 1: \n",
    "        M.R_estoqueinicial.add( expr = M.estoque_inicial[i] == M.estoque_final[i-1]) # Estoque inicial [i] == estoque final [i-1]\n",
    "\n",
    "# Estoque inicial do primeiro período deve ser 5000\n",
    "M.R_estoquenicial_1 = pe.Constraint(expr = M.estoque_inicial[1] == 5000)\n",
    "\n",
    "# Estoque final do último período deve ser 8000\n",
    "M.estoque_final_n = pe.Constraint(expr = M.estoque_final[4] == 8000)"
   ]
  },
  {
   "attachments": {},
   "cell_type": "markdown",
   "metadata": {},
   "source": [
    "### Resolvendo o Modelo e obtendo a solução alcançada\n",
    "\n",
    "Para resolver o modelo, precisamos de um solver. Usaremos aqui o glpk"
   ]
  },
  {
   "cell_type": "code",
   "execution_count": null,
   "metadata": {},
   "outputs": [],
   "source": [
    "# RESOLUÇÃO DO MODELO\n",
    "pe.SolverFactory('glpk').solve(M)"
   ]
  },
  {
   "cell_type": "code",
   "execution_count": null,
   "metadata": {},
   "outputs": [],
   "source": [
    "print(f\"z= {pe.value(M.z)}\")\n",
    "\n",
    "for k in M.x.keys(): \n",
    "    if pe.value(M.x[k]) > 0:\n",
    "        print (f\"x_{k} = {pe.value(M.x[k])}\")\n",
    "\n",
    "\n",
    "for k in M.estoque_inicial.keys(): \n",
    "    if pe.value(M.estoque_inicial[k]) > 0:\n",
    "        print (f\"estoque_inicial_{k} = {pe.value(M.estoque_inicial[k])}\")\n",
    "\n",
    "for k in M.estoque_final.keys(): \n",
    "    if pe.value(M.estoque_final[k]) > 0:\n",
    "        print (f\"estoque_final_{k} = {pe.value(M.estoque_final[k])}\")"
   ]
  },
  {
   "cell_type": "markdown",
   "metadata": {},
   "source": [
    "## Exercício\n",
    "\n",
    "Uma organização acaba de concluir sua previsão de demanda para o próximo ano. \n",
    "\n",
    "| Período | Demandas |\n",
    "|---------|----------|\n",
    "| Jan       | 1100    |\n",
    "| Fev       | 1200    |\n",
    "| Mar       | 1200    |\n",
    "| Abr       | 1500    |\n",
    "| Mai       | 1600    |\n",
    "| Jun       | 1400    |\n",
    "| Jul       | 1700    |\n",
    "| Ago       | 1800    | \n",
    "| Set       | 2000    | \n",
    "| Out       | 2300    | \n",
    "| Nov       | 1800    | \n",
    "| Dez       | 1600    | \n",
    "\n",
    "\n",
    "No momento, 16 funcionários são responsáveis pela produção. Sabe-se que cada funcionário consegue entregar 100 unidades do produto por mês de forma regular e 10 unidades a partir de horas extras. Além disso, considera-se que a capacidade regular de produção da fábrica varia linearmente com o aumento/dimuição do número de funcionários. \n",
    "\n",
    "Os seguintes valores foram estimados pela equipe responsável pela gestão de custos e são constantes para todos os meses:\n",
    "\n",
    "- Custo de contratação: R$ 1000/colaborador\n",
    "- Custo de demissão: R$ 3500/colaborador\n",
    "- Custo de estocar: R$ 5,00/produto/mês\n",
    "- Custo regular de produção: R$ 20,00/produto\n",
    "- Custo de produção com horas extras: R$ 24,00/produto\n",
    "\n",
    "Sabe-se que, inicialmente, não há unidades em estoque. Além disso, os gestores gostariam que, ao fim do último mês, não fique unidades em estoque para o ano seguinte.\n",
    "\n",
    "Considerando as informações mencionadas acima. Resolva o problema usando as seguintes estratégias:\n",
    "\n",
    "1. Utilizando força de trabalho constante (não é permitida a contratação e demissão de funcionários). O seu plano fez uso de horas extras? Usou estoques?\n",
    "2. Digamos que aconteceu um acidente no armazem. Assim, estoques não serão permitidos. Determine o plano agregado considerando também que agora você pode variar a força de trabalho.\n",
    "3. Considere que a legislação vigente não permite ociosidade na força de trabalho (se a demanda de um período for menor do que a força de trabalho, você precisará obrigatoriamente demitir). O resultado obtido no plano agregado 2 seria alterado?\n",
    "4. Formule agora o plano considerando que você possa usar qualquer estratégia que quiser (contratação e subcontratação, estoques, horas extras) e que não há legislação sobre a ociosidade na força de trabalho."
   ]
  },
  {
   "cell_type": "code",
   "execution_count": null,
   "metadata": {},
   "outputs": [],
   "source": []
  }
 ],
 "metadata": {
  "kernelspec": {
   "display_name": "base",
   "language": "python",
   "name": "python3"
  },
  "language_info": {
   "codemirror_mode": {
    "name": "ipython",
    "version": 3
   },
   "file_extension": ".py",
   "mimetype": "text/x-python",
   "name": "python",
   "nbconvert_exporter": "python",
   "pygments_lexer": "ipython3",
   "version": "3.9.7"
  },
  "orig_nbformat": 4
 },
 "nbformat": 4,
 "nbformat_minor": 2
}
