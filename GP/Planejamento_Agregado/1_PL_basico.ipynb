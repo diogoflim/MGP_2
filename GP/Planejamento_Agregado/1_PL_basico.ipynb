{
 "cells": [
  {
   "attachments": {},
   "cell_type": "markdown",
   "metadata": {},
   "source": [
    "[![Open In Colab](https://colab.research.google.com/assets/colab-badge.svg)](https://colab.research.google.com/github/diogoflim/MGP/blob/main/GP/Planejamento_Agregado/1_PL_basico.ipynb)"
   ]
  },
  {
   "attachments": {},
   "cell_type": "markdown",
   "metadata": {},
   "source": [
    "## **MGP**\n",
    "\n",
    "**Prof. Diogo Ferreira de Lima Silva (TEP-UFF)**"
   ]
  },
  {
   "cell_type": "code",
   "execution_count": null,
   "metadata": {
    "colab": {
     "base_uri": "https://localhost:8080/"
    },
    "executionInfo": {
     "elapsed": 5261,
     "status": "ok",
     "timestamp": 1662930143476,
     "user": {
      "displayName": "Rodrigo Celso de Lima Porto",
      "userId": "00317348114914252656"
     },
     "user_tz": 180
    },
    "id": "MWGu1HG6y9Ci",
    "outputId": "5a2fc682-960e-498d-b863-16a34ee7aaa5"
   },
   "outputs": [],
   "source": [
    "#Execute esse bloco caso esteja executando no Google Colab\n",
    "!pip install -q pyomo\n",
    "!apt-get install -y -qq glpk-utils"
   ]
  },
  {
   "attachments": {},
   "cell_type": "markdown",
   "metadata": {},
   "source": [
    "# Otimização com o Pyomo"
   ]
  },
  {
   "cell_type": "markdown",
   "metadata": {},
   "source": [
    "## Um problema inicial\n",
    "\n",
    "Resolveremos um problema simples de Otimização Linear com o Pyomo\n",
    "\n",
    "\n",
    "Um fazendeiro deseja otimizar as plantações de arroz e milho em sua fazenda\n",
    "\n",
    "- Os lucros obtidos por unidade de área plantada de arroz e milho são respectivamente de R$ 5,00 e R$2,00\n",
    "- Em temos de unidade de área plantada, arroz e milho consomem respectivamente um total de 1 homem-hora e 2 homens-hora\n",
    "- A área plantada de arroz não pode ser maior que 3\n",
    "- A área plantada de milho não pode ser maior que 4\n",
    "- Existe a disponibilidade de 9 homens-hora"
   ]
  },
  {
   "cell_type": "markdown",
   "metadata": {},
   "source": [
    "### Modelagem\n",
    "\n",
    "$$\n",
    "\\text{Max } z = 5x_{1} + 2x_{2}\n",
    "$$\n",
    "$$\n",
    "\\begin{equation}\n",
    "  \\begin{array}{rll}\n",
    "    \\text{Sujeito a: } & \\\\\n",
    "    & x_{1}  \\leq 3 \\\\\n",
    "    & x_{2}  \\leq 4 \\\\\n",
    "    & x_{1} + 2x_{2} \\le 9 \\\\\n",
    "    & x_{1} \\ge 0, x_{2} \\ge 0 \\\\\n",
    "  \\end{array}\n",
    "\\end{equation}\n",
    "$$\n"
   ]
  },
  {
   "attachments": {},
   "cell_type": "markdown",
   "metadata": {},
   "source": [
    "Primeiramente, importamos a biblioteca com o framework de modelagem pyomo"
   ]
  },
  {
   "cell_type": "code",
   "execution_count": null,
   "metadata": {},
   "outputs": [],
   "source": [
    "# Importando o Pyomo\n",
    "import pyomo.environ as pe "
   ]
  },
  {
   "attachments": {},
   "cell_type": "markdown",
   "metadata": {},
   "source": [
    "Vamos chamar nosso primeiro modelo de $M$. \n",
    "\n",
    "A criação do modelo é simples, basta atribuílo à uma variável através do método pe.ConcreteModel(), conforme a célula a seguir:"
   ]
  },
  {
   "cell_type": "code",
   "execution_count": null,
   "metadata": {},
   "outputs": [],
   "source": [
    "M = pe.ConcreteModel()"
   ]
  },
  {
   "attachments": {},
   "cell_type": "markdown",
   "metadata": {},
   "source": [
    "Lembrando que um modelo matemático de otimização linear possui:\n",
    "- um conjunto de variáveis;\n",
    "- um conjunto de restrições.\n",
    "- uma função objetivo.\n",
    "\n",
    "\n",
    "Iniciaremos criando as nossas variáveis. Para isso, basta utilizar o método *pe.Var*."
   ]
  },
  {
   "cell_type": "code",
   "execution_count": null,
   "metadata": {},
   "outputs": [],
   "source": [
    "# Criando variáveis \n",
    "x1 = M.x1 = pe.Var(domain=pe.NonNegativeReals) # unidades de área plantada de arroz\n",
    "x2 = M.x2 = pe.Var(domain=pe.NonNegativeReals) # unidades de área plantada de milho"
   ]
  },
  {
   "attachments": {},
   "cell_type": "markdown",
   "metadata": {},
   "source": [
    "Para criar restrições, podemos utilizar o método pe.Constraint(). \n",
    "\n",
    "Vejamos como ficam as restrições para esse problema simples:"
   ]
  },
  {
   "cell_type": "code",
   "execution_count": null,
   "metadata": {},
   "outputs": [],
   "source": [
    "#Restrições\n",
    "M.R1 = pe.Constraint(rule= x1 <= 3)\n",
    "M.R2 = pe.Constraint (rule= x2 <= 4)\n",
    "M.R3 = pe.Constraint (rule = x1 + 2 * x2 <= 9)"
   ]
  },
  {
   "attachments": {},
   "cell_type": "markdown",
   "metadata": {},
   "source": [
    "Agora vamos criar a Função Objetivo:"
   ]
  },
  {
   "cell_type": "code",
   "execution_count": null,
   "metadata": {},
   "outputs": [],
   "source": [
    "# Função objetivo\n",
    "z = M.z = pe.Objective (rule = 5 * x1 + 2 * x2, sense = pe.maximize)\n"
   ]
  },
  {
   "attachments": {},
   "cell_type": "markdown",
   "metadata": {},
   "source": [
    "Para resolver o modelo, basta chamar um solver específico.\n",
    "\n",
    "Neste caso, utilizaremos o solver **gurobi**."
   ]
  },
  {
   "cell_type": "code",
   "execution_count": null,
   "metadata": {},
   "outputs": [],
   "source": [
    "# Agora é só rodar o solver\n",
    "pe.SolverFactory('glpk').solve(M)"
   ]
  },
  {
   "attachments": {},
   "cell_type": "markdown",
   "metadata": {},
   "source": [
    "Imprimindo os resultados na tela:"
   ]
  },
  {
   "cell_type": "code",
   "execution_count": null,
   "metadata": {},
   "outputs": [],
   "source": [
    "print('x1 = ', pe.value(x1))\n",
    "print('x_2 = ', pe.value(x2))\n",
    "print('Função objetivo = ', pe.value(z))"
   ]
  },
  {
   "cell_type": "markdown",
   "metadata": {},
   "source": [
    "## Usando conjuntos\n"
   ]
  },
  {
   "cell_type": "markdown",
   "metadata": {},
   "source": [
    "Em problemas mais extensos, pode ser interessante utilizar conjuntos e parâmetros no Pyomo.\n",
    "\n",
    "Vejamos como ficaria."
   ]
  },
  {
   "cell_type": "code",
   "execution_count": null,
   "metadata": {},
   "outputs": [],
   "source": [
    "M=pe.ConcreteModel()\n",
    "\n",
    "# Conjunto\n",
    "M.tipos = pe.Set(initialize=[\"arroz\", \"milho\"])\n",
    "\n",
    "#Parâmetros\n",
    "M.lucro_unitario = pe.Param(M.tipos, initialize={\"arroz\": 5, \"milho\": 2})\n",
    "M.area_max = pe.Param(M.tipos, initialize={\"arroz\": 3, \"milho\": 4} )\n",
    "M.homem_hora = pe.Param(M.tipos, initialize={\"arroz\": 1, \"milho\": 2})\n",
    "M.hh_capacidade = pe.Param(initialize=9)\n",
    "\n",
    "#Variáveis\n",
    "M.x = pe.Var(M.tipos, domain=pe.NonNegativeReals)\n",
    "\n",
    "#Restrições de área plantada\n",
    "M.R_area = pe.ConstraintList() \n",
    "for i in M.tipos:\n",
    "    M.R_area.add(M.x[i]<=M.area_max[i])\n",
    "\n",
    "#Restrições de homem-hora\n",
    "M.R_hh = pe.Constraint (rule = sum(M.x[i]*M.homem_hora[i] for i in M.tipos) <= M.hh_capacidade)\n",
    "\n",
    "\n",
    "# Função Objetivo\n",
    "M.z = pe.Objective(expr = sum(M.x[i] * M.lucro_unitario[i] for i in M.tipos), sense = pe.maximize)"
   ]
  },
  {
   "cell_type": "code",
   "execution_count": null,
   "metadata": {},
   "outputs": [],
   "source": [
    "# Agora é só rodar o solver\n",
    "pe.SolverFactory('glpk').solve(M)\n",
    "\n",
    "for i in M.tipos:\n",
    "    print(f'x[{i}] = {pe.value(M.x[i])}')\n",
    "\n",
    "print(f'z = {pe.value(M.z)}')"
   ]
  },
  {
   "cell_type": "markdown",
   "metadata": {},
   "source": [
    "## Exercício 1 - Mix de Produção\n",
    "\n",
    "\n",
    "Um fabricante de móveis produz mesas e cadeiras. O processo envolve usinagem, lixamento e montagem das peças para confecção das mesas e cadeiras. Leva 5 horas para usinar as peças para uma mesa, 4 horas para lixar as peças e 3 horas para montar uma mesa. Uma cadeira requer 2 horas para usinar as peças, 3 horas para lixar as peças e 4 horas para montar uma cadeira. São 270 horas para usinagem das peças, 250 horas para lixamento das peças e 200 horas para montagem. Se o lucro de uma mesa é de 100 reais e de uma cadeira de 60 reais, quantas mesas e cadeiras o fabricante deve produzir para maximizar o lucro total? E se houver um requisito adicional para produzir quatro cadeiras para cada mesa?\n"
   ]
  },
  {
   "cell_type": "code",
   "execution_count": null,
   "metadata": {},
   "outputs": [],
   "source": []
  },
  {
   "cell_type": "markdown",
   "metadata": {},
   "source": [
    "## Exercício 2 - Problema da Dieta\n",
    "\n",
    "Um nutricionista esportivo está planejando um cardápio alimentar composto de três alimentos principais A, B e C. Cada grama de A contém 3 unidades de proteína, 2 unidades de carboidratos e 4 unidades de gordura. Cada grama de B contém 1, 3 e 2 unidades, respectivamente, e cada grama de C contém 3, 1 e 4 unidades, respectivamente. O nutricionista deseja que a refeição forneça pelo menos 440 unidades de gordura, pelo menos 150 unidades de carboidrato e pelo menos 320 unidades de proteína. Se 1 quilo de A custa 15,60, 1 quilo de B custa 18,90 e 1 quilo de C custa 12,70, quantos gramas de cada alimento devem ser servidos para minimizar o custo da refeição e, ao mesmo tempo, satisfazer as necessidades do nutricionista?\n"
   ]
  },
  {
   "cell_type": "code",
   "execution_count": null,
   "metadata": {},
   "outputs": [],
   "source": []
  },
  {
   "cell_type": "markdown",
   "metadata": {},
   "source": [
    "## Exercício 3 - Planejamento de um Evento\n",
    "\n",
    "O organizador de uma conferência deve fornecer almoços para os cinco dias de uma conferência. O organizador se depara com o problema de decidir sobre o fornecimento diário de guardanapos limpos. Ele sabe que os números de participantes da conferência que precisam almoçar nos cinco dias são 130, 220, 180, 120 e 100. Suas alternativas são: comprar novos guardanapos a 25 centavos cada. Enviar guardanapos usados para a lavandaria onde podem receber um serviço de 48 horas a 10 centavos o guardanapo, ou um serviço de 24 horas a 15 centavos o guardanapo. Considere que esta conferência é uma atividade única, não será repetida no próximo mês/ano. Como o organizador deve fornecer guardanapos para minimizar o custo total?\n"
   ]
  },
  {
   "cell_type": "code",
   "execution_count": null,
   "metadata": {},
   "outputs": [],
   "source": []
  },
  {
   "cell_type": "markdown",
   "metadata": {},
   "source": [
    "## Exercício 4 \n",
    "\n",
    "Uma refinaria produz 3 tipos de gasolina: verde, azul e comum. Cada tipo requer gasolina pura, octana e aditivo, que são disponíveis nas quantidades 9.600.000, 4.800.000 e 2.200.000 litros por semana, respectivamente. As especificações de cada tipo são:\n",
    "\n",
    "- Um litro de gasolina verde requer 0,22 litro de gasolina pura, 0,50 litro de octana e 0,28 litro de aditivo; \n",
    "- Um litro de gasolina azul requer 0,52 litro de gasolina pura, 0,34 litro de octana e 0,14 litro de aditivo; \n",
    "- Um litro de gasolina comum requer 0,74 litro de gasolina pura, 0,20 litro de octana e 0,06 litro de aditivo. \n",
    "\n",
    "A regra de produção é baseada na demanda de mercado. O planejamento da refinaria estipulou que a quantidade de gasolina comum deve ser **no mínimo** igual a 16 vezes a quantidade de gasolina verde. \n",
    "\n",
    "Além disso, foi decidido que a quantidade de gasolina azul seja no máximo igual a 600.000 litros por semana. \n",
    "\n",
    "A empresa sabe que cada litro de gasolina verde, azul e comum dá uma margem de contribuição para o lucro de 0,30; 0,25 e 0,20 respectivamente, e seu objetivo é determinar o programa de produção que maximize a margem total de contribuição para o lucro.\n",
    "\n",
    "1. Apresente um modelo matemático para o problema. Use uma linguagem de modelagem em conjunto com um solver para resolver o problema.\n",
    "\n",
    "2. Modele e resolva com o pyomo.\n"
   ]
  },
  {
   "cell_type": "code",
   "execution_count": null,
   "metadata": {},
   "outputs": [],
   "source": []
  }
 ],
 "metadata": {
  "kernelspec": {
   "display_name": "Python 3.10.4 64-bit",
   "language": "python",
   "name": "python3"
  },
  "language_info": {
   "codemirror_mode": {
    "name": "ipython",
    "version": 3
   },
   "file_extension": ".py",
   "mimetype": "text/x-python",
   "name": "python",
   "nbconvert_exporter": "python",
   "pygments_lexer": "ipython3",
   "version": "3.9.7"
  },
  "orig_nbformat": 4,
  "vscode": {
   "interpreter": {
    "hash": "369f2c481f4da34e4445cda3fffd2e751bd1c4d706f27375911949ba6bb62e1c"
   }
  }
 },
 "nbformat": 4,
 "nbformat_minor": 2
}
