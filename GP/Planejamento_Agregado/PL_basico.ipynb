{
 "cells": [
  {
   "attachments": {},
   "cell_type": "markdown",
   "metadata": {},
   "source": [
    "[![Open In Colab](https://colab.research.google.com/assets/colab-badge.svg)](https://colab.research.google.com/github/diogoflim/MGP/blob/main/GP/PL_basico.ipynb)"
   ]
  },
  {
   "attachments": {},
   "cell_type": "markdown",
   "metadata": {},
   "source": [
    "## **MGP**\n",
    "\n",
    "**Prof. Diogo Ferreira de Lima Silva (TEP-UFF)**"
   ]
  },
  {
   "cell_type": "code",
   "execution_count": null,
   "metadata": {
    "colab": {
     "base_uri": "https://localhost:8080/"
    },
    "executionInfo": {
     "elapsed": 5261,
     "status": "ok",
     "timestamp": 1662930143476,
     "user": {
      "displayName": "Rodrigo Celso de Lima Porto",
      "userId": "00317348114914252656"
     },
     "user_tz": 180
    },
    "id": "MWGu1HG6y9Ci",
    "outputId": "5a2fc682-960e-498d-b863-16a34ee7aaa5"
   },
   "outputs": [],
   "source": [
    "#Execute esse bloco caso esteja executando no Google Colab\n",
    "!pip install -q pyomo\n",
    "!pip install -i https://pypi.gurobi.com gurobipy"
   ]
  },
  {
   "attachments": {},
   "cell_type": "markdown",
   "metadata": {},
   "source": [
    "# Otimização com o Pyomo"
   ]
  },
  {
   "cell_type": "markdown",
   "metadata": {},
   "source": [
    "## Um problema inicial\n",
    "\n",
    "Resolveremos um problema simples de Otimização Linear com o Pyomo\n",
    "\n",
    "\n",
    "Um fazendeiro deseja otimizar as plantações de arroz e milho em sua fazenda\n",
    "\n",
    "- Os lucros obtidos por unidade de área plantada de arroz e milho são respectivamente de R$ 5,00 e R$2,00\n",
    "- Em temos de unidade de área plantada, arroz e milho consomem respectivamente um total de 1 homem-hora e 2 homens-hora\n",
    "- A área plantada de arroz não pode ser maior que 3\n",
    "- A área plantada de milho não pode ser maior que 4\n",
    "- Existe a disponibilidade de 9 homens-hora"
   ]
  },
  {
   "cell_type": "markdown",
   "metadata": {},
   "source": [
    "### Modelagem\n",
    "\n",
    "$$\n",
    "\\text{Max } z = 5x_{1} + 2x_{2}\n",
    "$$\n",
    "$$\n",
    "\\begin{equation}\n",
    "  \\begin{array}{rll}\n",
    "    \\text{Sujeito a: } & \\\\\n",
    "    & x_{1}  \\leq 3 \\\\\n",
    "    & x_{2}  \\leq 4 \\\\\n",
    "    & x_{1} + 2x_{2} \\le 9 \\\\\n",
    "    & x_{1} \\ge 0, x_{2} \\ge 0 \\\\\n",
    "  \\end{array}\n",
    "\\end{equation}\n",
    "$$\n"
   ]
  },
  {
   "attachments": {},
   "cell_type": "markdown",
   "metadata": {},
   "source": [
    "Primeiramente, importamos a biblioteca com o framework de modelagem pyomo"
   ]
  },
  {
   "cell_type": "code",
   "execution_count": null,
   "metadata": {},
   "outputs": [],
   "source": [
    "import pyomo.environ as pe # Importando o Pyomo"
   ]
  },
  {
   "attachments": {},
   "cell_type": "markdown",
   "metadata": {},
   "source": [
    "Vamos chamar nosso primeiro modelo de $M$. \n",
    "\n",
    "A criação do modelo é simples, com mosra a célula a seguir:"
   ]
  },
  {
   "cell_type": "code",
   "execution_count": null,
   "metadata": {},
   "outputs": [],
   "source": [
    "M = pe.ConcreteModel()"
   ]
  },
  {
   "attachments": {},
   "cell_type": "markdown",
   "metadata": {},
   "source": [
    "Criando variáveis:"
   ]
  },
  {
   "cell_type": "code",
   "execution_count": null,
   "metadata": {},
   "outputs": [],
   "source": [
    "# Criando variáveis \n",
    "x1 = M.x1 = pe.Var(domain=pe.NonNegativeReals)\n",
    "x2 = M.x2 = pe.Var(domain=pe.NonNegativeReals)"
   ]
  },
  {
   "attachments": {},
   "cell_type": "markdown",
   "metadata": {},
   "source": [
    "Criando as restrições"
   ]
  },
  {
   "cell_type": "code",
   "execution_count": null,
   "metadata": {},
   "outputs": [],
   "source": [
    "#Restrições\n",
    "M.R1 = pe.Constraint(rule= x1 <= 3)\n",
    "M.R2 = pe.Constraint (rule= x2 <= 4)\n",
    "M.R3 = pe.Constraint (rule = x1 + 2 * x2 <= 9)"
   ]
  },
  {
   "attachments": {},
   "cell_type": "markdown",
   "metadata": {},
   "source": [
    "Função objetivo"
   ]
  },
  {
   "cell_type": "code",
   "execution_count": null,
   "metadata": {},
   "outputs": [],
   "source": [
    "# Função objetivo\n",
    "z = M.z = pe.Objective (rule = 5 * x1 + 2 * x2, sense = pe.maximize)\n"
   ]
  },
  {
   "attachments": {},
   "cell_type": "markdown",
   "metadata": {},
   "source": [
    "Resolvendo com o solver gurobi"
   ]
  },
  {
   "cell_type": "code",
   "execution_count": null,
   "metadata": {},
   "outputs": [],
   "source": [
    "# Agora é só rodar o solver\n",
    "pe.SolverFactory('gurobi').solve(M)"
   ]
  },
  {
   "attachments": {},
   "cell_type": "markdown",
   "metadata": {},
   "source": [
    "Imprimindo os resultados"
   ]
  },
  {
   "cell_type": "code",
   "execution_count": null,
   "metadata": {},
   "outputs": [],
   "source": [
    "print('x1 = ', pe.value(x1))\n",
    "print('x_2 = ', pe.value(x2))\n",
    "print('Função objetivo = ', pe.value(z))"
   ]
  },
  {
   "cell_type": "markdown",
   "metadata": {},
   "source": [
    "### Exercício\n",
    "\n",
    "Uma refinaria produz 3 tipos de gasolina: verde, azul e comum. Cada tipo requer gasolina pura, octana e aditivo, que são disponíveis nas quantidades 9.600.000, 4.800.000 e 2.200.000 litros por semana, respectivamente. As especificações de cada tipo são:\n",
    "\n",
    "- Um litro de gasolina verde requer 0,22 litro de gasolina pura, 0,50 litro de octana e 0,28 litro de aditivo; \n",
    "- Um litro de gasolina azul requer 0,52 litro de gasolina pura, 0,34 litro de octana e 0,14 litro de aditivo; \n",
    "- Um litro de gasolina comum requer 0,74 litro de gasolina pura, 0,20 litro de octana e 0,06 litro de aditivo. \n",
    "\n",
    "A regra de produção é baseada na demanda de mercado. O planejamento da refinaria estipulou que a quantidade de gasolina comum deve ser **no mínimo** igual a 16 vezes a quantidade de gasolina verde. \n",
    "\n",
    "Além disso, foi decidido que a quantidade de gasolina azul seja no máximo igual a 600.000 litros por semana. \n",
    "\n",
    "A empresa sabe que cada litro de gasolina verde, azul e comum dá uma margem de contribuição para o lucro de $0,30; $0,25 e $0,20 respectivamente, e seu objetivo é determinar o programa de produção que maximize a margem total de contribuição para o lucro.\n",
    "\n",
    "1. Apresente um modelo matemático para o problema. Use uma linguagem de modelagem em conjunto com um solver para resolver o problema.\n",
    "\n",
    "2. Modele e resolva com o pyomo.\n"
   ]
  }
 ],
 "metadata": {
  "kernelspec": {
   "display_name": "Python 3.10.4 64-bit",
   "language": "python",
   "name": "python3"
  },
  "language_info": {
   "codemirror_mode": {
    "name": "ipython",
    "version": 3
   },
   "file_extension": ".py",
   "mimetype": "text/x-python",
   "name": "python",
   "nbconvert_exporter": "python",
   "pygments_lexer": "ipython3",
   "version": "3.9.7"
  },
  "orig_nbformat": 4,
  "vscode": {
   "interpreter": {
    "hash": "369f2c481f4da34e4445cda3fffd2e751bd1c4d706f27375911949ba6bb62e1c"
   }
  }
 },
 "nbformat": 4,
 "nbformat_minor": 2
}
