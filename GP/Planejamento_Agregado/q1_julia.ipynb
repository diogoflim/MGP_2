{
 "cells": [
  {
   "attachments": {},
   "cell_type": "markdown",
   "metadata": {},
   "source": [
    "[![Open In Colab](https://colab.research.google.com/assets/colab-badge.svg)](https://colab.research.google.com/github/diogoflim/MGP/blob/main/GP/q1_julia.ipynb)"
   ]
  },
  {
   "attachments": {},
   "cell_type": "markdown",
   "metadata": {},
   "source": [
    "# Um Problema de Mix de Produção"
   ]
  },
  {
   "attachments": {},
   "cell_type": "markdown",
   "metadata": {},
   "source": [
    "$$\\max z = 0,3x_1 + 0,25x_2 + 0,2x_3$$\n",
    "                                            sujeito a:\n",
    "$$0,22x_1 + 0,52x_2 + 0,74x_3 \\leq 9600000$$\n",
    "$$0,52x_1 + 0,34x_2 + 0,20x_3 \\leq 4800000$$\n",
    "$$0,28x_1 + 0,14x_2 + 0,06x_3 \\leq 2200000$$ \n",
    "$$x_3 \\geq 16x_1$$\n",
    "$$x_2 \\leq 600000$$\n",
    "$$x_i \\geq 0,   \\forall i \\in \\{1,2,3\\}$$\n",
    "  "
   ]
  },
  {
   "attachments": {},
   "cell_type": "markdown",
   "metadata": {},
   "source": [
    "## Usando Julia no Google Colab\n",
    "\n",
    "**Para usar julia no colab, precisamos instalar a linguagem previamente.**\n",
    "\n",
    "Se esse for o caso, run a célula abaixo, template produzido por: https://colab.research.google.com/github/ageron/julia_notebooks/blob/master/Julia_Colab_Notebook_Template.ipynb#scrollTo=GIeFXS0F0zww"
   ]
  },
  {
   "cell_type": "code",
   "execution_count": null,
   "metadata": {},
   "outputs": [],
   "source": [
    "%%shell\n",
    "set -e\n",
    "\n",
    "#---------------------------------------------------#\n",
    "JULIA_VERSION=\"1.8.2\" # any version ≥ 0.7.0\n",
    "JULIA_PACKAGES=\"IJulia BenchmarkTools\"\n",
    "JULIA_PACKAGES_IF_GPU=\"CUDA\" # or CuArrays for older Julia versions\n",
    "JULIA_NUM_THREADS=2\n",
    "#---------------------------------------------------#\n",
    "\n",
    "if [ -z `which julia` ]; then\n",
    "  # Install Julia\n",
    "  JULIA_VER=`cut -d '.' -f -2 <<< \"$JULIA_VERSION\"`\n",
    "  echo \"Installing Julia $JULIA_VERSION on the current Colab Runtime...\"\n",
    "  BASE_URL=\"https://julialang-s3.julialang.org/bin/linux/x64\"\n",
    "  URL=\"$BASE_URL/$JULIA_VER/julia-$JULIA_VERSION-linux-x86_64.tar.gz\"\n",
    "  wget -nv $URL -O /tmp/julia.tar.gz # -nv means \"not verbose\"\n",
    "  tar -x -f /tmp/julia.tar.gz -C /usr/local --strip-components 1\n",
    "  rm /tmp/julia.tar.gz\n",
    "\n",
    "  # Install Packages\n",
    "  nvidia-smi -L &> /dev/null && export GPU=1 || export GPU=0\n",
    "  if [ $GPU -eq 1 ]; then\n",
    "    JULIA_PACKAGES=\"$JULIA_PACKAGES $JULIA_PACKAGES_IF_GPU\"\n",
    "  fi\n",
    "  for PKG in `echo $JULIA_PACKAGES`; do\n",
    "    echo \"Installing Julia package $PKG...\"\n",
    "    julia -e 'using Pkg; pkg\"add '$PKG'; precompile;\"' &> /dev/null\n",
    "  done\n",
    "\n",
    "  # Install kernel and rename it to \"julia\"\n",
    "  echo \"Installing IJulia kernel...\"\n",
    "  julia -e 'using IJulia; IJulia.installkernel(\"julia\", env=Dict(\n",
    "      \"JULIA_NUM_THREADS\"=>\"'\"$JULIA_NUM_THREADS\"'\"))'\n",
    "  KERNEL_DIR=`julia -e \"using IJulia; print(IJulia.kerneldir())\"`\n",
    "  KERNEL_NAME=`ls -d \"$KERNEL_DIR\"/julia*`\n",
    "  mv -f $KERNEL_NAME \"$KERNEL_DIR\"/julia  \n",
    "\n",
    "  echo ''\n",
    "  echo \"Successfully installed `julia -v`!\"\n",
    "  echo \"Please reload this page (press Ctrl+R, ⌘+R, or the F5 key) then\"\n",
    "  echo \"jump to the 'Checking the Installation' section.\"\n",
    "fi"
   ]
  },
  {
   "cell_type": "code",
   "execution_count": null,
   "metadata": {},
   "outputs": [],
   "source": [
    "using Pkg\n",
    "\n",
    "Pkg.add([\"JuMP\", \"GLPK\", \"DataFrames\"])"
   ]
  },
  {
   "cell_type": "code",
   "execution_count": null,
   "metadata": {},
   "outputs": [],
   "source": [
    "using JuMP, GLPK"
   ]
  },
  {
   "cell_type": "code",
   "execution_count": null,
   "metadata": {},
   "outputs": [],
   "source": [
    "M = Model(GLPK.Optimizer);\n",
    "\n",
    "@variable(M, x[1:3] >=0)\n",
    "\n",
    "@constraints(M, begin\n",
    "                0.22 * x[1]+ 0.52 * x[2] + 0.74 * x[3] <= 9600000 \n",
    "                0.5*x[1]+ 0.34 * x[2] + 0.2 * x[3] <= 4800000\n",
    "                0.28*x[1]+ 0.14 * x[2] + 0.06*x[3] <= 2200000\n",
    "                x[3] >= 16*x[1]\n",
    "                x[2] <= 600000\n",
    "                end\n",
    ")\n",
    "\n",
    "@objective(M, Max, 0.3*x[1] + 0.25*x[2] + 0.2*x[3])\n",
    "\n",
    "println(M) # Imprimir o modelo na tela\n",
    "\n",
    "optimize!(M);\n",
    "z = objective_value(M); x_ = value.(x);\n",
    "println(\"Valor alcançado na função objetivo: $z\\nx=$x_\")"
   ]
  },
  {
   "attachments": {},
   "cell_type": "markdown",
   "metadata": {},
   "source": [
    "### Inserção dos Dados\n"
   ]
  },
  {
   "cell_type": "code",
   "execution_count": null,
   "metadata": {},
   "outputs": [],
   "source": [
    "using DataFrames"
   ]
  },
  {
   "cell_type": "code",
   "execution_count": null,
   "metadata": {},
   "outputs": [],
   "source": [
    "dados = DataFrame(tipo_prod= [\"verde\",\"azul\",\"comum\"], pura=[0.22, 0.52, 0.74], octana = [0.5, 0.34, 0.2], aditivo = [0.28, 0.14, 0.06]);"
   ]
  },
  {
   "cell_type": "code",
   "execution_count": null,
   "metadata": {},
   "outputs": [],
   "source": [
    "dados = stack(dados, [:pura, :octana, :aditivo]);\n",
    "rename!(dados, [:variable, :value] .=> [:mp, :comp]);\n",
    "dados"
   ]
  },
  {
   "cell_type": "code",
   "execution_count": null,
   "metadata": {},
   "outputs": [],
   "source": [
    "comp_dict = Dict();\n",
    "for i =1:nrow(dados)\n",
    "    push!(comp_dict, (dados.tipo_prod[i], dados.mp[i]) => dados.comp[i])\n",
    "end\n",
    "comp_dict"
   ]
  },
  {
   "cell_type": "code",
   "execution_count": null,
   "metadata": {},
   "outputs": [],
   "source": [
    "tipo_prod= [\"verde\",\"azul\",\"comum\"];                  \n",
    "mp = [\"pura\", \"octana\", \"aditivo\"];\n",
    "capacidades = Dict(\"pura\" => 9600000, \"octana\" => 4800000, \"aditivo\" => 2200000);\n",
    "lucros = Dict(\"verde\" => 0.3, \"azul\" => 0.25, \"comum\" => 0.2);\n",
    "capacidade_azul = 600000;"
   ]
  },
  {
   "attachments": {},
   "cell_type": "markdown",
   "metadata": {},
   "source": [
    "### Criando o Modelo"
   ]
  },
  {
   "cell_type": "code",
   "execution_count": null,
   "metadata": {},
   "outputs": [],
   "source": [
    "M = Model(GLPK.Optimizer)\n",
    "\n",
    "@variable(M, x[tipo_prod] >=0)\n",
    "\n",
    "@constraint(M, R_capacidades[j in mp], sum(x[i] * comp_dict[i, j] for i in tipo_prod) <= capacidades[j])\n",
    "@constraints(M, begin\n",
    "                x[\"comum\"] >= 16 * x[\"verde\"]\n",
    "                x[\"azul\"] <= capacidade_azul\n",
    "end)\n",
    "\n",
    "@objective(M, Max, sum(x[i] * lucros[i] for i in tipo_prod))\n",
    "\n",
    "println(M) # Imprimir o modelo na tela\n",
    "\n",
    "optimize!(M);"
   ]
  },
  {
   "cell_type": "code",
   "execution_count": null,
   "metadata": {},
   "outputs": [],
   "source": [
    "z = objective_value(M); \n",
    "x_ = value.(x);\n",
    "\n",
    "println(\"Valor alcançado na função objetivo: $z\\nx=$x_\")"
   ]
  }
 ],
 "metadata": {
  "kernelspec": {
   "display_name": "Julia 1.8.5",
   "language": "julia",
   "name": "julia-1.8"
  },
  "language_info": {
   "file_extension": ".jl",
   "mimetype": "application/julia",
   "name": "julia",
   "version": "1.8.5"
  },
  "orig_nbformat": 4
 },
 "nbformat": 4,
 "nbformat_minor": 2
}
